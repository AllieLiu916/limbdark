{
 "cells": [
  {
   "cell_type": "markdown",
   "metadata": {},
   "source": [
    "# Change of basis matrices\n",
    "\n",
    "## A1\n",
    "\n",
    "#### Code to compute the change of basis matrix $A_1$"
   ]
  },
  {
   "cell_type": "markdown",
   "metadata": {},
   "source": [
    "We begin by importing some stuff and defining our functions:"
   ]
  },
  {
   "cell_type": "code",
   "execution_count": 1,
   "metadata": {},
   "outputs": [
    {
     "name": "stdout",
     "output_type": "stream",
     "text": [
      "\n",
      "Using sympy version 1.3\n"
     ]
    }
   ],
   "source": [
    "import numpy as np\n",
    "from IPython.display import display, Math\n",
    "import sympy\n",
    "from sympy import *\n",
    "from sympy.functions.special.tensor_functions import KroneckerDelta\n",
    "\n",
    "# Initialize the session\n",
    "init_session(quiet=True)\n",
    "\n",
    "# I am using the dev version of sympy\n",
    "print(\"Using sympy version\", sympy.__version__)\n",
    "\n",
    "# Define our symbols\n",
    "z, n = symbols('z n')"
   ]
  },
  {
   "cell_type": "code",
   "execution_count": 2,
   "metadata": {},
   "outputs": [],
   "source": [
    "def ptilde(n, z):\n",
    "    \"\"\"Return the n^th term in the polynomial basis.\"\"\"\n",
    "    return z ** n"
   ]
  },
  {
   "cell_type": "code",
   "execution_count": 3,
   "metadata": {},
   "outputs": [],
   "source": [
    "def Coefficient(expression, term):\n",
    "    \"\"\"Return the coefficient multiplying `term` in `expression`.\"\"\"\n",
    "    # Get the coefficient\n",
    "    coeff = expression.coeff(term)\n",
    "    # Set any non-constants in this coefficient to zero. If the coefficient\n",
    "    # is not a constant, this is not the term we are interested in!\n",
    "    coeff = coeff.subs(z, 0)\n",
    "    return coeff"
   ]
  },
  {
   "cell_type": "code",
   "execution_count": 4,
   "metadata": {},
   "outputs": [],
   "source": [
    "def A1(N):\n",
    "    \"\"\"Return the change of basis matrix A1.\"\"\"\n",
    "    res = zeros(N + 1, N + 1)\n",
    "    for i in range(N + 1):\n",
    "        for j in range(N + 1):\n",
    "            res[i, j] = (-1) ** (i + 1) * binomial(j, i)\n",
    "    return res"
   ]
  },
  {
   "cell_type": "markdown",
   "metadata": {},
   "source": [
    "We can finally evaluate the change of basis matrix for $N = 5$:"
   ]
  },
  {
   "cell_type": "code",
   "execution_count": 25,
   "metadata": {},
   "outputs": [
    {
     "data": {
      "text/latex": [
       "$$\\left[\\begin{matrix}-1 & -1 & -1 & -1 & -1 & -1\\\\0 & 1 & 2 & 3 & 4 & 5\\\\0 & 0 & -1 & -3 & -6 & -10\\\\0 & 0 & 0 & 1 & 4 & 10\\\\0 & 0 & 0 & 0 & -1 & -5\\\\0 & 0 & 0 & 0 & 0 & 1\\end{matrix}\\right]$$"
      ],
      "text/plain": [
       "⎡-1  -1  -1  -1  -1  -1 ⎤\n",
       "⎢                       ⎥\n",
       "⎢0   1   2   3   4    5 ⎥\n",
       "⎢                       ⎥\n",
       "⎢0   0   -1  -3  -6  -10⎥\n",
       "⎢                       ⎥\n",
       "⎢0   0   0   1   4   10 ⎥\n",
       "⎢                       ⎥\n",
       "⎢0   0   0   0   -1  -5 ⎥\n",
       "⎢                       ⎥\n",
       "⎣0   0   0   0   0    1 ⎦"
      ]
     },
     "execution_count": 25,
     "metadata": {},
     "output_type": "execute_result"
    }
   ],
   "source": [
    "A1(5)"
   ]
  },
  {
   "cell_type": "markdown",
   "metadata": {},
   "source": [
    "■"
   ]
  },
  {
   "cell_type": "markdown",
   "metadata": {},
   "source": [
    "## A2\n",
    "\n",
    "#### Code to compute the change of basis matrix $A_2$"
   ]
  },
  {
   "cell_type": "code",
   "execution_count": 6,
   "metadata": {},
   "outputs": [],
   "source": [
    "def gtilde(n, z):\n",
    "    \"\"\"Return the n^th term in the Green's basis.\"\"\"\n",
    "    if n == 0:\n",
    "        return 1 + 0 * z\n",
    "    elif n == 1:\n",
    "        return z\n",
    "    else:\n",
    "        return (n + 2) * z ** n - n * z ** (n - 2)"
   ]
  },
  {
   "cell_type": "code",
   "execution_count": 7,
   "metadata": {},
   "outputs": [],
   "source": [
    "def p_G(n, N):\n",
    "    \"\"\"Return the polynomial basis representation of the Green's polynomial `g`.\"\"\"\n",
    "    g = gtilde(n, z)\n",
    "    res = [g.subs(z, 0)]\n",
    "    for n in range(1, N + 1):\n",
    "        res.append(Coefficient(g, ptilde(n, z)))\n",
    "    return res"
   ]
  },
  {
   "cell_type": "code",
   "execution_count": 8,
   "metadata": {},
   "outputs": [],
   "source": [
    "def A2(N):\n",
    "    \"\"\"Return the change of basis matrix A2. The columns of the **inverse** of this matrix are given by `p_G`.\"\"\"\n",
    "    res = zeros(N + 1, N + 1)\n",
    "    for n in range(N + 1):\n",
    "        res[n] = p_G(n, N)\n",
    "    return res.inv()"
   ]
  },
  {
   "cell_type": "code",
   "execution_count": 26,
   "metadata": {},
   "outputs": [
    {
     "data": {
      "text/latex": [
       "$$\\left[\\begin{matrix}1 & 0 & \\frac{1}{2} & 0 & \\frac{1}{3} & 0\\\\0 & 1 & 0 & \\frac{3}{5} & 0 & \\frac{3}{7}\\\\0 & 0 & \\frac{1}{4} & 0 & \\frac{1}{6} & 0\\\\0 & 0 & 0 & \\frac{1}{5} & 0 & \\frac{1}{7}\\\\0 & 0 & 0 & 0 & \\frac{1}{6} & 0\\\\0 & 0 & 0 & 0 & 0 & \\frac{1}{7}\\end{matrix}\\right]$$"
      ],
      "text/plain": [
       "⎡1  0  1/2   0   1/3   0 ⎤\n",
       "⎢                        ⎥\n",
       "⎢0  1   0   3/5   0   3/7⎥\n",
       "⎢                        ⎥\n",
       "⎢0  0  1/4   0   1/6   0 ⎥\n",
       "⎢                        ⎥\n",
       "⎢0  0   0   1/5   0   1/7⎥\n",
       "⎢                        ⎥\n",
       "⎢0  0   0    0   1/6   0 ⎥\n",
       "⎢                        ⎥\n",
       "⎣0  0   0    0    0   1/7⎦"
      ]
     },
     "execution_count": 26,
     "metadata": {},
     "output_type": "execute_result"
    }
   ],
   "source": [
    "A2(5)"
   ]
  },
  {
   "cell_type": "markdown",
   "metadata": {},
   "source": [
    "■"
   ]
  },
  {
   "cell_type": "markdown",
   "metadata": {},
   "source": [
    "## A\n",
    "\n",
    "#### Code to compute the full change of basis matrix $A$"
   ]
  },
  {
   "cell_type": "markdown",
   "metadata": {},
   "source": [
    "This is now easy: it's just the dot product of the previous two matrices."
   ]
  },
  {
   "cell_type": "code",
   "execution_count": 10,
   "metadata": {},
   "outputs": [],
   "source": [
    "def A(N):\n",
    "    \"\"\"Return the full change of basis matrix.\"\"\"\n",
    "    return A2(N) * A1(N)"
   ]
  },
  {
   "cell_type": "code",
   "execution_count": 27,
   "metadata": {},
   "outputs": [
    {
     "data": {
      "text/latex": [
       "$$\\left[\\begin{matrix}-1 & -1 & - \\frac{3}{2} & - \\frac{5}{2} & - \\frac{13}{3} & - \\frac{23}{3}\\\\0 & 1 & 2 & \\frac{18}{5} & \\frac{32}{5} & \\frac{80}{7}\\\\0 & 0 & - \\frac{1}{4} & - \\frac{3}{4} & - \\frac{5}{3} & - \\frac{10}{3}\\\\0 & 0 & 0 & \\frac{1}{5} & \\frac{4}{5} & \\frac{15}{7}\\\\0 & 0 & 0 & 0 & - \\frac{1}{6} & - \\frac{5}{6}\\\\0 & 0 & 0 & 0 & 0 & \\frac{1}{7}\\end{matrix}\\right]$$"
      ],
      "text/plain": [
       "⎡-1  -1  -3/2  -5/2  -13/3  -23/3⎤\n",
       "⎢                                ⎥\n",
       "⎢0   1    2    18/5  32/5   80/7 ⎥\n",
       "⎢                                ⎥\n",
       "⎢0   0   -1/4  -3/4  -5/3   -10/3⎥\n",
       "⎢                                ⎥\n",
       "⎢0   0    0    1/5    4/5   15/7 ⎥\n",
       "⎢                                ⎥\n",
       "⎢0   0    0     0    -1/6   -5/6 ⎥\n",
       "⎢                                ⎥\n",
       "⎣0   0    0     0      0     1/7 ⎦"
      ]
     },
     "execution_count": 27,
     "metadata": {},
     "output_type": "execute_result"
    }
   ],
   "source": [
    "A(5)"
   ]
  },
  {
   "cell_type": "markdown",
   "metadata": {},
   "source": [
    "LaTeX representation for the paper:"
   ]
  },
  {
   "cell_type": "code",
   "execution_count": 31,
   "metadata": {},
   "outputs": [
    {
     "name": "stdout",
     "output_type": "stream",
     "text": [
      "\\left[\\begin{matrix}-1 & -1 & - \\frac{3}{2} & - \\frac{5}{2} & - \\frac{13}{3} & - \\frac{23}{3}\\\\0 & 1 & 2 & \\frac{18}{5} & \\frac{32}{5} & \\frac{80}{7}\\\\0 & 0 & - \\frac{1}{4} & - \\frac{3}{4} & - \\frac{5}{3} & - \\frac{10}{3}\\\\0 & 0 & 0 & \\frac{1}{5} & \\frac{4}{5} & \\frac{15}{7}\\\\0 & 0 & 0 & 0 & - \\frac{1}{6} & - \\frac{5}{6}\\\\0 & 0 & 0 & 0 & 0 & \\frac{1}{7}\\end{matrix}\\right]\n"
     ]
    }
   ],
   "source": [
    "print(latex(A(5)))"
   ]
  },
  {
   "cell_type": "markdown",
   "metadata": {},
   "source": [
    "■"
   ]
  },
  {
   "cell_type": "markdown",
   "metadata": {},
   "source": [
    "## Example\n",
    "\n",
    "#### Compute the Green's basis for quadratic limb darkening"
   ]
  },
  {
   "cell_type": "code",
   "execution_count": 24,
   "metadata": {},
   "outputs": [
    {
     "data": {
      "text/latex": [
       "$$\\left[\\begin{matrix}- u_{1} - \\frac{3 u_{2}}{2} + 1\\\\u_{1} + 2 u_{2}\\\\- \\frac{u_{2}}{4}\\end{matrix}\\right]$$"
      ],
      "text/plain": [
       "⎡      3⋅u₂    ⎤\n",
       "⎢-u₁ - ──── + 1⎥\n",
       "⎢       2      ⎥\n",
       "⎢              ⎥\n",
       "⎢  u₁ + 2⋅u₂   ⎥\n",
       "⎢              ⎥\n",
       "⎢     -u₂      ⎥\n",
       "⎢     ────     ⎥\n",
       "⎣      4       ⎦"
      ]
     },
     "execution_count": 24,
     "metadata": {},
     "output_type": "execute_result"
    }
   ],
   "source": [
    "u1, u2 = symbols(\"u_1 u_2\")\n",
    "A(2) * Matrix([-1, u1, u2])"
   ]
  },
  {
   "cell_type": "markdown",
   "metadata": {},
   "source": [
    "■"
   ]
  }
 ],
 "metadata": {
  "kernelspec": {
   "display_name": "Python 3",
   "language": "python",
   "name": "python3"
  },
  "language_info": {
   "codemirror_mode": {
    "name": "ipython",
    "version": 3
   },
   "file_extension": ".py",
   "mimetype": "text/x-python",
   "name": "python",
   "nbconvert_exporter": "python",
   "pygments_lexer": "ipython3",
   "version": "3.7.2"
  }
 },
 "nbformat": 4,
 "nbformat_minor": 2
}
