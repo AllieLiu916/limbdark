{
 "cells": [
  {
   "cell_type": "markdown",
   "metadata": {},
   "source": [
    "# Derivatives of $S_0$"
   ]
  },
  {
   "cell_type": "markdown",
   "metadata": {},
   "source": [
    "In this notebook we'll validate the analytical expression for the area of the \"lens\" of overlap between the occulted body and the occultor."
   ]
  },
  {
   "cell_type": "code",
   "execution_count": 1,
   "metadata": {},
   "outputs": [
    {
     "name": "stdout",
     "output_type": "stream",
     "text": [
      "\n",
      "Using sympy version 1.3\n"
     ]
    }
   ],
   "source": [
    "import sympy\n",
    "from sympy import *\n",
    "from sympy.functions.special.tensor_functions import KroneckerDelta\n",
    "\n",
    "# Initialize the session\n",
    "init_session(quiet=True)\n",
    "\n",
    "# Let's report what version of sympy this is\n",
    "print(\"Using sympy version\", sympy.__version__)"
   ]
  },
  {
   "cell_type": "markdown",
   "metadata": {},
   "source": [
    "## Define our quantities"
   ]
  },
  {
   "cell_type": "code",
   "execution_count": 2,
   "metadata": {},
   "outputs": [],
   "source": [
    "S0, k0, k1, r, b, A = symbols(\"S_0 \\kappa_0 \\kappa_1 r b A\")"
   ]
  },
  {
   "cell_type": "code",
   "execution_count": 3,
   "metadata": {},
   "outputs": [],
   "source": [
    "A = sqrt((1 + r + b) * (b - 1 + r) * (b + 1 - r) * (1 + r - b)) / 2"
   ]
  },
  {
   "cell_type": "code",
   "execution_count": 4,
   "metadata": {},
   "outputs": [],
   "source": [
    "k0 = atan2(2 * A, (r - 1) * (r + 1) + b * b)"
   ]
  },
  {
   "cell_type": "code",
   "execution_count": 5,
   "metadata": {},
   "outputs": [],
   "source": [
    "k1 = atan2(2 * A, (1 - r) * (1 + r) + b * b)"
   ]
  },
  {
   "cell_type": "code",
   "execution_count": 6,
   "metadata": {},
   "outputs": [],
   "source": [
    "S0 = pi - k1 - r ** 2 * k0 + A"
   ]
  },
  {
   "cell_type": "markdown",
   "metadata": {},
   "source": [
    "## Derivative with respect to $b$"
   ]
  },
  {
   "cell_type": "code",
   "execution_count": 7,
   "metadata": {},
   "outputs": [
    {
     "data": {
      "image/png": "[encoded data removed]",
      "text/latex": [
       "$$\\frac{\\sqrt{- b^{4} + 2 b^{2} r^{2} + 2 b^{2} - r^{4} + 2 r^{2} - 1}}{b}$$"
      ],
      "text/plain": [
       "   _______________________________________\n",
       "  ╱    4      2  2      2    4      2     \n",
       "╲╱  - b  + 2⋅b ⋅r  + 2⋅b  - r  + 2⋅r  - 1 \n",
       "──────────────────────────────────────────\n",
       "                    b                     "
      ]
     },
     "execution_count": 7,
     "metadata": {},
     "output_type": "execute_result"
    }
   ],
   "source": [
    "simplify(diff(S0, b))"
   ]
  },
  {
   "cell_type": "markdown",
   "metadata": {},
   "source": [
    "This is equal to..."
   ]
  },
  {
   "cell_type": "code",
   "execution_count": 11,
   "metadata": {},
   "outputs": [
    {
     "data": {
      "image/png": "[encoded data removed]",
      "text/latex": [
       "$$\\frac{\\sqrt{- b^{4} + 2 b^{2} r^{2} + 2 b^{2} - r^{4} + 2 r^{2} - 1}}{b}$$"
      ],
      "text/plain": [
       "   _______________________________________\n",
       "  ╱    4      2  2      2    4      2     \n",
       "╲╱  - b  + 2⋅b ⋅r  + 2⋅b  - r  + 2⋅r  - 1 \n",
       "──────────────────────────────────────────\n",
       "                    b                     "
      ]
     },
     "execution_count": 11,
     "metadata": {},
     "output_type": "execute_result"
    }
   ],
   "source": [
    "expand(2 * A / b)"
   ]
  },
  {
   "cell_type": "markdown",
   "metadata": {},
   "source": [
    "## Derivative with respect to $r$"
   ]
  },
  {
   "cell_type": "code",
   "execution_count": 9,
   "metadata": {},
   "outputs": [
    {
     "data": {
      "image/png": "[encoded data removed]",
      "text/latex": [
       "$$- 2 r \\operatorname{atan_{2}}{\\left (\\sqrt{- b^{4} + 2 b^{2} r^{2} + 2 b^{2} - r^{4} + 2 r^{2} - 1},b^{2} + r^{2} - 1 \\right )}$$"
      ],
      "text/plain": [
       "          ⎛   _______________________________________             ⎞\n",
       "          ⎜  ╱    4      2  2      2    4      2        2    2    ⎟\n",
       "-2⋅r⋅atan2⎝╲╱  - b  + 2⋅b ⋅r  + 2⋅b  - r  + 2⋅r  - 1 , b  + r  - 1⎠"
      ]
     },
     "execution_count": 9,
     "metadata": {},
     "output_type": "execute_result"
    }
   ],
   "source": [
    "simplify(diff(S0, r))"
   ]
  },
  {
   "cell_type": "markdown",
   "metadata": {},
   "source": [
    "This is equal to..."
   ]
  },
  {
   "cell_type": "code",
   "execution_count": 10,
   "metadata": {},
   "outputs": [
    {
     "data": {
      "image/png": "[encoded data removed]",
      "text/latex": [
       "$$- 2 r \\operatorname{atan_{2}}{\\left (\\sqrt{- b^{4} + 2 b^{2} r^{2} + 2 b^{2} - r^{4} + 2 r^{2} - 1},b^{2} + r^{2} - 1 \\right )}$$"
      ],
      "text/plain": [
       "          ⎛   _______________________________________             ⎞\n",
       "          ⎜  ╱    4      2  2      2    4      2        2    2    ⎟\n",
       "-2⋅r⋅atan2⎝╲╱  - b  + 2⋅b ⋅r  + 2⋅b  - r  + 2⋅r  - 1 , b  + r  - 1⎠"
      ]
     },
     "execution_count": 10,
     "metadata": {},
     "output_type": "execute_result"
    }
   ],
   "source": [
    "expand(-2 * r * k0)"
   ]
  }
 ],
 "metadata": {
  "kernelspec": {
   "display_name": "Python 3",
   "language": "python",
   "name": "python3"
  },
  "language_info": {
   "codemirror_mode": {
    "name": "ipython",
    "version": 3
   },
   "file_extension": ".py",
   "mimetype": "text/x-python",
   "name": "python",
   "nbconvert_exporter": "python",
   "pygments_lexer": "ipython3",
   "version": "3.6.5"
  }
 },
 "nbformat": 4,
 "nbformat_minor": 2
}
