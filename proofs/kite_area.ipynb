{
 "cells": [
  {
   "cell_type": "markdown",
   "metadata": {},
   "source": [
    "# Area of the occultor \"lens\" using the \"kite\" expression"
   ]
  },
  {
   "cell_type": "markdown",
   "metadata": {},
   "source": [
    "In this notebook we'll validate the expression for the area of the \"lens\" of overlap using the expression for the area of the \"kite\" region."
   ]
  },
  {
   "cell_type": "code",
   "execution_count": 5,
   "metadata": {},
   "outputs": [],
   "source": [
    "import numpy as np\n",
    "import matplotlib.pyplot as pl\n",
    "%matplotlib notebook"
   ]
  },
  {
   "cell_type": "markdown",
   "metadata": {},
   "source": [
    "Here is the original expression for the lens area defined in the text:"
   ]
  },
  {
   "cell_type": "code",
   "execution_count": 8,
   "metadata": {},
   "outputs": [],
   "source": [
    "def ALens(r, b):\n",
    "    if (1 + r <= b):\n",
    "        return 0\n",
    "    elif abs(1 - r) < b and b <= 1 + r:\n",
    "        term = np.sqrt((4 * b ** 2 - (1 + b ** 2 - r ** 2) ** 2) / 4)\n",
    "        kappa0 = np.arccos(((r - 1) * (r + 1) + b ** 2) / (2 * b * r))\n",
    "        kappa1 = np.arccos(((1 - r) * (1 + r) + b ** 2) / (2 * b))\n",
    "        return r ** 2 * kappa0 + kappa1 - term\n",
    "    elif b <= 1 - r:\n",
    "        return np.pi * r ** 2\n",
    "    elif b <= r - 1:\n",
    "        return np.pi\n",
    "    else:\n",
    "        raise NotImplementedError(\"Missing case!\")"
   ]
  },
  {
   "cell_type": "markdown",
   "metadata": {},
   "source": [
    "And here is the expression using the area of the \"kite\", which is much more numerically stable:"
   ]
  },
  {
   "cell_type": "code",
   "execution_count": 35,
   "metadata": {},
   "outputs": [],
   "source": [
    "def ALensKite(r, b):\n",
    "    if (1 + r <= b):\n",
    "        return 0\n",
    "    elif abs(1 - r) < b and b <= 1 + r:\n",
    "        C, B, A = sorted([1, r, b])\n",
    "        Akite = 0.5 * np.sqrt((A + (B + C)) * (C - (A - B)) * (C + (A - B)) * (A + (B - C)))\n",
    "        kappa0 = np.arctan2(2 * Akite, (r - 1) * (r + 1) + b ** 2)\n",
    "        kappa1 = np.arctan2(2 * Akite, (1 - r) * (1 + r) + b ** 2)\n",
    "        return kappa1 + r ** 2 * kappa0 - Akite\n",
    "    elif b <= 1 - r:\n",
    "        return np.pi * r ** 2\n",
    "    elif b <= r - 1:\n",
    "        return np.pi\n",
    "    else:\n",
    "        raise NotImplementedError(\"Missing case!\")"
   ]
  },
  {
   "cell_type": "markdown",
   "metadata": {},
   "source": [
    "Let's show that the expressions yield the same answer (to within the error of the numerical method) over a large range of $b$ and $r$ values:"
   ]
  },
  {
   "cell_type": "code",
   "execution_count": 36,
   "metadata": {},
   "outputs": [
    {
     "data": {
      "image/png": "[encoded data removed]",
      "text/plain": [
       "<Figure size 720x576 with 2 Axes>"
      ]
     },
     "metadata": {},
     "output_type": "display_data"
    }
   ],
   "source": [
    "n = 50\n",
    "barr = np.linspace(0, 2, n)\n",
    "rarr = np.linspace(0, 2, n)\n",
    "diff = np.zeros((n, n))\n",
    "for i, b in enumerate(barr):\n",
    "    for j, r in enumerate(rarr):\n",
    "        diff[j, i] = abs(ALens(r, b) - ALensKite(r, b))\n",
    "\n",
    "fig = pl.figure(figsize=(10, 8))\n",
    "pl.imshow(diff, origin=\"lower\", extent=(0, 2, 0, 2))\n",
    "pl.xlabel(\"Impact parameter\", fontsize=16)\n",
    "pl.ylabel(\"Radius ratio\", fontsize=16)\n",
    "cb = pl.colorbar()\n",
    "cb.ax.set_ylabel(\"Difference\", fontsize=16);"
   ]
  },
  {
   "cell_type": "markdown",
   "metadata": {},
   "source": [
    "The difference is close to machine epsilon everywhere, so our expression is correct. Near certain singular points/lines, this expression is a lot more stable, as we will see later!"
   ]
  }
 ],
 "metadata": {
  "kernelspec": {
   "display_name": "Python 3",
   "language": "python",
   "name": "python3"
  },
  "language_info": {
   "codemirror_mode": {
    "name": "ipython",
    "version": 3
   },
   "file_extension": ".py",
   "mimetype": "text/x-python",
   "name": "python",
   "nbconvert_exporter": "python",
   "pygments_lexer": "ipython3",
   "version": "3.6.5"
  }
 },
 "nbformat": 4,
 "nbformat_minor": 2
}
