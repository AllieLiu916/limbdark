{
 "cells": [
  {
   "cell_type": "markdown",
   "metadata": {},
   "source": [
    "# Derivatives of the $\\Lambda$ function\n",
    "\n",
    "#### Validation of the derivatives of the $\\Lambda$ function for linearly limb-darkened transits"
   ]
  },
  {
   "cell_type": "markdown",
   "metadata": {},
   "source": [
    "Let's import some stuff."
   ]
  },
  {
   "cell_type": "code",
   "execution_count": 1,
   "metadata": {},
   "outputs": [
    {
     "name": "stdout",
     "output_type": "stream",
     "text": [
      "\n",
      "Using sympy version 1.3\n"
     ]
    }
   ],
   "source": [
    "import numpy as np\n",
    "import matplotlib.pyplot as pl\n",
    "%matplotlib notebook\n",
    "from IPython.display import display, Math\n",
    "import sympy\n",
    "from sympy import *\n",
    "from sympy.functions.special.delta_functions import Heaviside\n",
    "from sympy.functions.special.elliptic_integrals import elliptic_k, elliptic_e, elliptic_pi\n",
    "\n",
    "# Initialize the session\n",
    "init_session(quiet=True)\n",
    "\n",
    "# Let's report what version of sympy this is\n",
    "print(\"Using sympy version\", sympy.__version__)"
   ]
  },
  {
   "cell_type": "markdown",
   "metadata": {},
   "source": [
    "We're going to take all the derivatives analytically using `sympy`."
   ]
  },
  {
   "cell_type": "code",
   "execution_count": 2,
   "metadata": {},
   "outputs": [],
   "source": [
    "Lambda, r, b, ksq = symbols(\"\\Lambda r b, k^2\")\n",
    "ksq = (1 - r ** 2 - b ** 2 + 2 * b * r) / (4 * b * r)"
   ]
  },
  {
   "cell_type": "markdown",
   "metadata": {},
   "source": [
    "## $k^2$ < 1"
   ]
  },
  {
   "cell_type": "markdown",
   "metadata": {},
   "source": [
    "Here's the expression from the paper, in terms of the standard elliptic integrals $E$, $K$, and $\\Pi$ (which `sympy` knows how to compute):"
   ]
  },
  {
   "cell_type": "code",
   "execution_count": 3,
   "metadata": {},
   "outputs": [
    {
     "data": {
      "text/latex": [
       "$$\\frac{- 4 b r \\left(- b^{2} - 7 r^{2} + 4\\right) E\\left(\\frac{- b^{2} + 2 b r - r^{2} + 1}{4 b r}\\right) + \\frac{\\left(- 2 r \\left(\\left(- b + r\\right) \\left(b + r\\right) + 2 \\left(b + r\\right)^{2} - 3\\right) K\\left(\\frac{- b^{2} + 2 b r - r^{2} + 1}{4 b r}\\right) + \\left(3 b - 3 r\\right) \\Pi\\left(\\frac{\\left(b + r\\right)^{2} \\left(- b^{2} + 2 b r - r^{2} + 1\\right)}{4 b r}\\middle| \\frac{- b^{2} + 2 b r - r^{2} + 1}{4 b r}\\right)\\right) \\left(\\left(b + r\\right)^{2} - 1\\right)}{b + r}}{9 \\pi \\sqrt{b r}}$$"
      ],
      "text/plain": [
       "                                                     ⎛                        \n",
       "                                                     ⎜      ⎛                 \n",
       "                           ⎛   2            2    ⎞   ⎜- 2⋅r⋅⎝(-b + r)⋅(b + r) \n",
       "        ⎛   2      2    ⎞  ⎜- b  + 2⋅b⋅r - r  + 1⎟   ⎝                        \n",
       "- 4⋅b⋅r⋅⎝- b  - 7⋅r  + 4⎠⋅E⎜─────────────────────⎟ + ─────────────────────────\n",
       "                           ⎝        4⋅b⋅r        ⎠                            \n",
       "──────────────────────────────────────────────────────────────────────────────\n",
       "                                                                              \n",
       "                                                                              \n",
       "\n",
       "                   ⎛   2            2    ⎞                ⎛       2 ⎛   2     \n",
       "           2    ⎞  ⎜- b  + 2⋅b⋅r - r  + 1⎟                ⎜(b + r) ⋅⎝- b  + 2⋅\n",
       "+ 2⋅(b + r)  - 3⎠⋅K⎜─────────────────────⎟ + (3⋅b - 3⋅r)⋅Π⎜───────────────────\n",
       "                   ⎝        4⋅b⋅r        ⎠                ⎝             4⋅b⋅r \n",
       "──────────────────────────────────────────────────────────────────────────────\n",
       "                                                  b + r                       \n",
       "──────────────────────────────────────────────────────────────────────────────\n",
       "                          _____                                               \n",
       "                    9⋅π⋅╲╱ b⋅r                                                \n",
       "\n",
       "       2    ⎞│   2            2    ⎞⎞               \n",
       "b⋅r - r  + 1⎠│- b  + 2⋅b⋅r - r  + 1⎟⎟ ⎛       2    ⎞\n",
       "─────────────│─────────────────────⎟⎟⋅⎝(b + r)  - 1⎠\n",
       "             │        4⋅b⋅r        ⎠⎠               \n",
       "────────────────────────────────────────────────────\n",
       "                                                    \n",
       "────────────────────────────────────────────────────\n",
       "                                                    \n",
       "                                                    "
      ]
     },
     "execution_count": 3,
     "metadata": {},
     "output_type": "execute_result"
    }
   ],
   "source": [
    "f1 = 1 / (9 * pi * sqrt(b * r))\n",
    "f2 = ((r + b) ** 2 - 1) / (r + b)\n",
    "f3 = -2 * r * (2 * (r + b) ** 2 + (r + b) * (r - b) - 3)\n",
    "f4 = 3 * (b - r)\n",
    "f5 = -4 * b * r * (4 - 7 * r ** 2 - b ** 2)\n",
    "K = elliptic_k(ksq)\n",
    "E = elliptic_e(ksq)\n",
    "PI = elliptic_pi(ksq * (b + r) ** 2, ksq)\n",
    "Lambda = f1 * (f2 * (f3 * K + f4 * PI) + f5 * E)\n",
    "Lambda"
   ]
  },
  {
   "cell_type": "markdown",
   "metadata": {},
   "source": [
    "### Derivative with respect to $r$"
   ]
  },
  {
   "cell_type": "markdown",
   "metadata": {},
   "source": [
    "The derivative of this expression with respect to $r$ is"
   ]
  },
  {
   "cell_type": "code",
   "execution_count": 4,
   "metadata": {},
   "outputs": [
    {
     "data": {
      "image/png": "[encoded data removed]",
      "text/latex": [
       "$$- \\frac{2 \\sqrt{b r} \\left(b^{2} K\\left(- \\frac{b^{2} - 2 b r + r^{2} - 1}{4 b r}\\right) - 4 b r E\\left(- \\frac{b^{2} - 2 b r + r^{2} - 1}{4 b r}\\right) + 2 b r K\\left(- \\frac{b^{2} - 2 b r + r^{2} - 1}{4 b r}\\right) + r^{2} K\\left(- \\frac{b^{2} - 2 b r + r^{2} - 1}{4 b r}\\right) - K\\left(- \\frac{b^{2} - 2 b r + r^{2} - 1}{4 b r}\\right)\\right)}{\\pi b}$$"
      ],
      "text/plain": [
       "           ⎛    ⎛ ⎛ 2            2    ⎞ ⎞          ⎛ ⎛ 2            2    ⎞ ⎞  \n",
       "     _____ ⎜ 2  ⎜-⎝b  - 2⋅b⋅r + r  - 1⎠ ⎟          ⎜-⎝b  - 2⋅b⋅r + r  - 1⎠ ⎟  \n",
       "-2⋅╲╱ b⋅r ⋅⎜b ⋅K⎜───────────────────────⎟ - 4⋅b⋅r⋅E⎜───────────────────────⎟ +\n",
       "           ⎝    ⎝         4⋅b⋅r         ⎠          ⎝         4⋅b⋅r         ⎠  \n",
       "──────────────────────────────────────────────────────────────────────────────\n",
       "                                                                              \n",
       "\n",
       "        ⎛ ⎛ 2            2    ⎞ ⎞       ⎛ ⎛ 2            2    ⎞ ⎞    ⎛ ⎛ 2    \n",
       "        ⎜-⎝b  - 2⋅b⋅r + r  - 1⎠ ⎟    2  ⎜-⎝b  - 2⋅b⋅r + r  - 1⎠ ⎟    ⎜-⎝b  - 2\n",
       " 2⋅b⋅r⋅K⎜───────────────────────⎟ + r ⋅K⎜───────────────────────⎟ - K⎜────────\n",
       "        ⎝         4⋅b⋅r         ⎠       ⎝         4⋅b⋅r         ⎠    ⎝        \n",
       "──────────────────────────────────────────────────────────────────────────────\n",
       "       π⋅b                                                                    \n",
       "\n",
       "        2    ⎞ ⎞⎞ \n",
       "⋅b⋅r + r  - 1⎠ ⎟⎟ \n",
       "───────────────⎟⎟ \n",
       " 4⋅b⋅r         ⎠⎠ \n",
       "──────────────────\n",
       "                  "
      ]
     },
     "execution_count": 4,
     "metadata": {},
     "output_type": "execute_result"
    }
   ],
   "source": [
    "dLdr = simplify(diff(Lambda, r))\n",
    "dLdr"
   ]
  },
  {
   "cell_type": "markdown",
   "metadata": {},
   "source": [
    "We claim this simplifies to:"
   ]
  },
  {
   "cell_type": "code",
   "execution_count": 5,
   "metadata": {},
   "outputs": [
    {
     "data": {
      "image/png": "[encoded data removed]",
      "text/latex": [
       "$$\\frac{8 b r^{2} E\\left(\\frac{- b^{2} + 2 b r - r^{2} + 1}{4 b r}\\right) + 2 r \\left(- \\left(b + r\\right)^{2} + 1\\right) K\\left(\\frac{- b^{2} + 2 b r - r^{2} + 1}{4 b r}\\right)}{\\pi \\sqrt{b r}}$$"
      ],
      "text/plain": [
       "        ⎛   2            2    ⎞                         ⎛   2            2    \n",
       "     2  ⎜- b  + 2⋅b⋅r - r  + 1⎟       ⎛         2    ⎞  ⎜- b  + 2⋅b⋅r - r  + 1\n",
       "8⋅b⋅r ⋅E⎜─────────────────────⎟ + 2⋅r⋅⎝- (b + r)  + 1⎠⋅K⎜─────────────────────\n",
       "        ⎝        4⋅b⋅r        ⎠                         ⎝        4⋅b⋅r        \n",
       "──────────────────────────────────────────────────────────────────────────────\n",
       "                                       _____                                  \n",
       "                                   π⋅╲╱ b⋅r                                   \n",
       "\n",
       "⎞\n",
       "⎟\n",
       "⎟\n",
       "⎠\n",
       "─\n",
       " \n",
       " "
      ]
     },
     "execution_count": 5,
     "metadata": {},
     "output_type": "execute_result"
    }
   ],
   "source": [
    "dLdr_paper = (8 * b * r ** 2 * elliptic_e(ksq) + 2 * r * (1 - (b + r) ** 2) * elliptic_k(ksq)) / (pi * sqrt(b * r))\n",
    "dLdr_paper"
   ]
  },
  {
   "cell_type": "markdown",
   "metadata": {},
   "source": [
    "Do the expressions agree?"
   ]
  },
  {
   "cell_type": "code",
   "execution_count": 6,
   "metadata": {},
   "outputs": [
    {
     "data": {
      "text/plain": [
       "True"
      ]
     },
     "execution_count": 6,
     "metadata": {},
     "output_type": "execute_result"
    }
   ],
   "source": [
    "simplify(dLdr_paper - dLdr) == 0"
   ]
  },
  {
   "cell_type": "markdown",
   "metadata": {},
   "source": [
    "<div style=\"background-color: #f2fcf2; border-color: #b5dfb4; border-left: 5px solid #b5dfb4; padding: 0.5em;\">\n",
    "QED\n",
    "<div/>"
   ]
  },
  {
   "cell_type": "markdown",
   "metadata": {},
   "source": [
    "Now, using the relation\n",
    "\n",
    "$\\ \\ \\ \\ \\ \\ \\ \\ \\ \\lambda K(k^2) + q E(k^2) = \\mathrm{cel}(k_c, 1, \\lambda + q, \\lambda + q k_c^2)$\n",
    "\n",
    "with \n",
    "\n",
    "$\\ \\ \\ \\ \\ \\ \\ \\ \\ \\lambda = 2 r (1 - (b + r)^2)$ \n",
    "\n",
    "and \n",
    "\n",
    "$\\ \\ \\ \\ \\ \\ \\ \\ \\ q = 8 b r^2$,\n",
    "\n",
    "we have"
   ]
  },
  {
   "cell_type": "markdown",
   "metadata": {},
   "source": [
    "$\\ \\ \\ \\ \\ \\ \\ \\ \\ \\lambda + q =$"
   ]
  },
  {
   "cell_type": "code",
   "execution_count": 7,
   "metadata": {},
   "outputs": [
    {
     "data": {
      "image/png": "[encoded data removed]",
      "text/latex": [
       "$$- 2 r \\left(- b + r - 1\\right) \\left(- b + r + 1\\right)$$"
      ],
      "text/plain": [
       "-2⋅r⋅(-b + r - 1)⋅(-b + r + 1)"
      ]
     },
     "execution_count": 7,
     "metadata": {},
     "output_type": "execute_result"
    }
   ],
   "source": [
    "lam = 2 * r * (1 - (b + r) ** 2)\n",
    "q = 8 * b * r ** 2\n",
    "factor(simplify(lam + q))"
   ]
  },
  {
   "cell_type": "markdown",
   "metadata": {},
   "source": [
    "$=2 r (1 − (b − r)^2 )$"
   ]
  },
  {
   "cell_type": "markdown",
   "metadata": {},
   "source": [
    "and\n",
    "\n",
    "$\\ \\ \\ \\ \\ \\ \\ \\ \\ \\lambda + q k_c^2 =$"
   ]
  },
  {
   "cell_type": "code",
   "execution_count": 8,
   "metadata": {},
   "outputs": [
    {
     "data": {
      "image/png": "[encoded data removed]",
      "text/latex": [
       "$$0$$"
      ],
      "text/plain": [
       "0"
      ]
     },
     "execution_count": 8,
     "metadata": {},
     "output_type": "execute_result"
    }
   ],
   "source": [
    "simplify(lam + q * (1 - ksq))"
   ]
  },
  {
   "cell_type": "markdown",
   "metadata": {},
   "source": [
    "We can then re-write the derivative as\n",
    "\n",
    "$\\frac{1}{\\pi \\sqrt{b r}} \\mathrm{cel}(k_c, 1, 2 r (1 − (b − r)^2 ), 0)$"
   ]
  },
  {
   "cell_type": "markdown",
   "metadata": {},
   "source": [
    "<div style=\"background-color: #f2fcf2; border-color: #b5dfb4; border-left: 5px solid #b5dfb4; padding: 0.5em;\">\n",
    "QED\n",
    "<div/>"
   ]
  },
  {
   "cell_type": "markdown",
   "metadata": {},
   "source": [
    "### Derivative with respect to $b$"
   ]
  },
  {
   "cell_type": "markdown",
   "metadata": {},
   "source": [
    "The derivative of this expression with respect to $b$ is"
   ]
  },
  {
   "cell_type": "code",
   "execution_count": 9,
   "metadata": {},
   "outputs": [
    {
     "data": {
      "image/png": "[encoded data removed]",
      "text/latex": [
       "$$\\frac{2 \\sqrt{b r} \\left(2 b^{2} E\\left(\\frac{- b^{2} + 2 b r - r^{2} + 1}{4 b r}\\right) - b^{2} K\\left(\\frac{- b^{2} + 2 b r - r^{2} + 1}{4 b r}\\right) - 2 b r K\\left(\\frac{- b^{2} + 2 b r - r^{2} + 1}{4 b r}\\right) + 2 r^{2} E\\left(\\frac{- b^{2} + 2 b r - r^{2} + 1}{4 b r}\\right) - r^{2} K\\left(\\frac{- b^{2} + 2 b r - r^{2} + 1}{4 b r}\\right) - 2 E\\left(\\frac{- b^{2} + 2 b r - r^{2} + 1}{4 b r}\\right) + K\\left(\\frac{- b^{2} + 2 b r - r^{2} + 1}{4 b r}\\right)\\right)}{3 \\pi b}$$"
      ],
      "text/plain": [
       "          ⎛      ⎛   2            2    ⎞       ⎛   2            2    ⎞        \n",
       "    _____ ⎜   2  ⎜- b  + 2⋅b⋅r - r  + 1⎟    2  ⎜- b  + 2⋅b⋅r - r  + 1⎟        \n",
       "2⋅╲╱ b⋅r ⋅⎜2⋅b ⋅E⎜─────────────────────⎟ - b ⋅K⎜─────────────────────⎟ - 2⋅b⋅r\n",
       "          ⎝      ⎝        4⋅b⋅r        ⎠       ⎝        4⋅b⋅r        ⎠        \n",
       "──────────────────────────────────────────────────────────────────────────────\n",
       "                                                                              \n",
       "\n",
       "  ⎛   2            2    ⎞         ⎛   2            2    ⎞       ⎛   2         \n",
       "  ⎜- b  + 2⋅b⋅r - r  + 1⎟      2  ⎜- b  + 2⋅b⋅r - r  + 1⎟    2  ⎜- b  + 2⋅b⋅r \n",
       "⋅K⎜─────────────────────⎟ + 2⋅r ⋅E⎜─────────────────────⎟ - r ⋅K⎜─────────────\n",
       "  ⎝        4⋅b⋅r        ⎠         ⎝        4⋅b⋅r        ⎠       ⎝        4⋅b⋅r\n",
       "──────────────────────────────────────────────────────────────────────────────\n",
       "                              3⋅π⋅b                                           \n",
       "\n",
       "   2    ⎞      ⎛   2            2    ⎞    ⎛   2            2    ⎞⎞\n",
       "- r  + 1⎟      ⎜- b  + 2⋅b⋅r - r  + 1⎟    ⎜- b  + 2⋅b⋅r - r  + 1⎟⎟\n",
       "────────⎟ - 2⋅E⎜─────────────────────⎟ + K⎜─────────────────────⎟⎟\n",
       "        ⎠      ⎝        4⋅b⋅r        ⎠    ⎝        4⋅b⋅r        ⎠⎠\n",
       "──────────────────────────────────────────────────────────────────\n",
       "                                                                  "
      ]
     },
     "execution_count": 9,
     "metadata": {},
     "output_type": "execute_result"
    }
   ],
   "source": [
    "dLdb = simplify(diff(Lambda, b))\n",
    "dLdb"
   ]
  },
  {
   "cell_type": "markdown",
   "metadata": {},
   "source": [
    "We claim this simplifies to:"
   ]
  },
  {
   "cell_type": "code",
   "execution_count": 10,
   "metadata": {},
   "outputs": [
    {
     "data": {
      "image/png": "[encoded data removed]",
      "text/latex": [
       "$$\\frac{2 r \\left(- \\left(b + r\\right)^{2} + 1\\right) K\\left(\\frac{- b^{2} + 2 b r - r^{2} + 1}{4 b r}\\right) + 4 r \\left(b^{2} + r^{2} - 1\\right) E\\left(\\frac{- b^{2} + 2 b r - r^{2} + 1}{4 b r}\\right)}{3 \\pi \\sqrt{b r}}$$"
      ],
      "text/plain": [
       "                      ⎛   2            2    ⎞                      ⎛   2      \n",
       "    ⎛         2    ⎞  ⎜- b  + 2⋅b⋅r - r  + 1⎟       ⎛ 2    2    ⎞  ⎜- b  + 2⋅b\n",
       "2⋅r⋅⎝- (b + r)  + 1⎠⋅K⎜─────────────────────⎟ + 4⋅r⋅⎝b  + r  - 1⎠⋅E⎜──────────\n",
       "                      ⎝        4⋅b⋅r        ⎠                      ⎝        4⋅\n",
       "──────────────────────────────────────────────────────────────────────────────\n",
       "                                             _____                            \n",
       "                                       3⋅π⋅╲╱ b⋅r                             \n",
       "\n",
       "      2    ⎞\n",
       "⋅r - r  + 1⎟\n",
       "───────────⎟\n",
       "b⋅r        ⎠\n",
       "────────────\n",
       "            \n",
       "            "
      ]
     },
     "execution_count": 10,
     "metadata": {},
     "output_type": "execute_result"
    }
   ],
   "source": [
    "dLdb_paper = (4 * r * (r ** 2 + b ** 2 - 1) * elliptic_e(ksq) + 2 * r * (1 - (b + r) ** 2) * elliptic_k(ksq)) / (3 * pi * sqrt(b * r))\n",
    "dLdb_paper"
   ]
  },
  {
   "cell_type": "markdown",
   "metadata": {},
   "source": [
    "Do the expressions agree?"
   ]
  },
  {
   "cell_type": "code",
   "execution_count": 11,
   "metadata": {
    "scrolled": true
   },
   "outputs": [
    {
     "data": {
      "text/plain": [
       "True"
      ]
     },
     "execution_count": 11,
     "metadata": {},
     "output_type": "execute_result"
    }
   ],
   "source": [
    "simplify(dLdb_paper - dLdb) == 0"
   ]
  },
  {
   "cell_type": "markdown",
   "metadata": {},
   "source": [
    "<div style=\"background-color: #f2fcf2; border-color: #b5dfb4; border-left: 5px solid #b5dfb4; padding: 0.5em;\">\n",
    "QED\n",
    "<div/>"
   ]
  },
  {
   "cell_type": "markdown",
   "metadata": {},
   "source": [
    "Now, using the relation\n",
    "\n",
    "$\\ \\ \\ \\ \\ \\ \\ \\ \\ \\lambda K(k^2) + q E(k^2) = \\mathrm{cel}(k_c, 1, \\lambda + q, \\lambda + q k_c^2)$\n",
    "\n",
    "with \n",
    "\n",
    "$\\ \\ \\ \\ \\ \\ \\ \\ \\ \\lambda = \\frac{2r(1 - (b + r)^2)}{1 - (b - r)^2}$\n",
    "\n",
    "and \n",
    "\n",
    "$\\ \\ \\ \\ \\ \\ \\ \\ \\ q = \\frac{4r(r^2 + b^2 - 1)}{1 - (b - r)^2}$\n",
    "\n",
    "we have\n",
    "\n",
    "$\\ \\ \\ \\ \\ \\ \\ \\ \\ \\lambda + q =$"
   ]
  },
  {
   "cell_type": "code",
   "execution_count": 12,
   "metadata": {},
   "outputs": [
    {
     "data": {
      "image/png": "[encoded data removed]",
      "text/latex": [
       "$$- 2 r$$"
      ],
      "text/plain": [
       "-2⋅r"
      ]
     },
     "execution_count": 12,
     "metadata": {},
     "output_type": "execute_result"
    }
   ],
   "source": [
    "lam = 2 * r * (1 - (b + r) ** 2) / (1 - (b - r) ** 2)\n",
    "q = 4 * r * (r ** 2 + b ** 2 - 1) / (1 - (b - r) ** 2)\n",
    "factor(simplify(lam + q))"
   ]
  },
  {
   "cell_type": "markdown",
   "metadata": {},
   "source": [
    "and\n",
    "\n",
    "$\\ \\ \\ \\ \\ \\ \\ \\ \\ \\lambda + q k_c^2 =$"
   ]
  },
  {
   "cell_type": "code",
   "execution_count": 13,
   "metadata": {},
   "outputs": [
    {
     "data": {
      "image/png": "[encoded data removed]",
      "text/latex": [
       "$$- \\frac{\\left(b + r - 1\\right) \\left(b + r + 1\\right)}{b}$$"
      ],
      "text/plain": [
       "-(b + r - 1)⋅(b + r + 1) \n",
       "─────────────────────────\n",
       "            b            "
      ]
     },
     "execution_count": 13,
     "metadata": {},
     "output_type": "execute_result"
    }
   ],
   "source": [
    "factor(simplify(lam + q * (1 - ksq)))"
   ]
  },
  {
   "cell_type": "markdown",
   "metadata": {},
   "source": [
    "$=\\frac{1 - (b + r)^2}{b}$"
   ]
  },
  {
   "cell_type": "markdown",
   "metadata": {},
   "source": [
    "We can then re-write the derivative as\n",
    "\n",
    "$\\frac{1 - (b - r)^2}{3\\pi \\sqrt{b r}} \\mathrm{cel}(k_c, 1, -2r, \\frac{1 - (b + r)^2}{b})$"
   ]
  },
  {
   "cell_type": "markdown",
   "metadata": {},
   "source": [
    "<div style=\"background-color: #f2fcf2; border-color: #b5dfb4; border-left: 5px solid #b5dfb4; padding: 0.5em;\">\n",
    "QED\n",
    "<div/>"
   ]
  },
  {
   "cell_type": "markdown",
   "metadata": {},
   "source": [
    "## $k^2$ > 1"
   ]
  },
  {
   "cell_type": "markdown",
   "metadata": {},
   "source": [
    "Here's the expression from the paper, in terms of the standard elliptic integrals $E$, $K$, and $\\Pi$ (which `sympy` knows how to compute):"
   ]
  },
  {
   "cell_type": "code",
   "execution_count": 14,
   "metadata": {},
   "outputs": [
    {
     "data": {
      "text/latex": [
       "$$\\frac{2 \\left(\\left(\\sqrt{- \\left(b - r\\right)^{2} + 1} K\\left(\\frac{4 b r}{- b^{2} + 2 b r - r^{2} + 1}\\right) + \\frac{\\left(3 b - 3 r\\right) \\Pi\\left(\\frac{4 b r}{\\left(b + r\\right)^{2} \\left(- b^{2} + 2 b r - r^{2} + 1\\right)}\\middle| \\frac{4 b r}{- b^{2} + 2 b r - r^{2} + 1}\\right)}{\\left(b + r\\right) \\sqrt{- \\left(b - r\\right)^{2} + 1}}\\right) \\left(- \\left(b + r\\right)^{2} + 1\\right) - \\sqrt{- \\left(b - r\\right)^{2} + 1} \\left(- b^{2} - 7 r^{2} + 4\\right) E\\left(\\frac{4 b r}{- b^{2} + 2 b r - r^{2} + 1}\\right)\\right)}{9 \\pi}$$"
      ],
      "text/plain": [
       "  ⎛⎛                                                            ⎛             \n",
       "  ⎜⎜                                               (3⋅b - 3⋅r)⋅Π⎜─────────────\n",
       "  ⎜⎜   ________________                                         ⎜       2 ⎛   \n",
       "  ⎜⎜  ╱          2       ⎛        4⋅b⋅r        ⎞                ⎝(b + r) ⋅⎝- b\n",
       "2⋅⎜⎜╲╱  - (b - r)  + 1 ⋅K⎜─────────────────────⎟ + ───────────────────────────\n",
       "  ⎜⎜                     ⎜   2            2    ⎟                              \n",
       "  ⎜⎜                     ⎝- b  + 2⋅b⋅r - r  + 1⎠                              \n",
       "  ⎝⎝                                                                    (b + r\n",
       "──────────────────────────────────────────────────────────────────────────────\n",
       "                                                                              \n",
       "\n",
       "4⋅b⋅r              │        4⋅b⋅r        ⎞⎞                                   \n",
       "───────────────────│─────────────────────⎟⎟                                   \n",
       "2            2    ⎞│   2            2    ⎟⎟                       ____________\n",
       "  + 2⋅b⋅r - r  + 1⎠│- b  + 2⋅b⋅r - r  + 1⎠⎟ ⎛         2    ⎞     ╱          2 \n",
       "──────────────────────────────────────────⎟⋅⎝- (b + r)  + 1⎠ - ╲╱  - (b - r)  \n",
       "     ________________                     ⎟                                   \n",
       "    ╱          2                          ⎟                                   \n",
       ")⋅╲╱  - (b - r)  + 1                      ⎠                                   \n",
       "──────────────────────────────────────────────────────────────────────────────\n",
       "                      9⋅π                                                     \n",
       "\n",
       "                                               ⎞\n",
       "                                               ⎟\n",
       "____                                           ⎟\n",
       "     ⎛   2      2    ⎞  ⎛        4⋅b⋅r        ⎞⎟\n",
       "+ 1 ⋅⎝- b  - 7⋅r  + 4⎠⋅E⎜─────────────────────⎟⎟\n",
       "                        ⎜   2            2    ⎟⎟\n",
       "                        ⎝- b  + 2⋅b⋅r - r  + 1⎠⎟\n",
       "                                               ⎠\n",
       "────────────────────────────────────────────────\n",
       "                                                "
      ]
     },
     "execution_count": 14,
     "metadata": {},
     "output_type": "execute_result"
    }
   ],
   "source": [
    "f1 = 2 / (9 * pi)\n",
    "f2 = 1 - (r + b) ** 2\n",
    "f3 = sqrt(1 - (b - r) ** 2)\n",
    "f4 = 3 * (b - r) / ((b + r) * sqrt(1 - (b - r) ** 2))\n",
    "f5 = -sqrt(1 - (b - r) ** 2) * (4 - 7 * r ** 2 - b ** 2)\n",
    "K = elliptic_k(1 / ksq)\n",
    "E = elliptic_e(1 / ksq)\n",
    "PI = elliptic_pi(1 / (ksq * (b + r) ** 2), 1 / ksq)\n",
    "Lambda = f1 * (f2 * (f3 * K + f4 * PI) + f5 * E)\n",
    "Lambda"
   ]
  },
  {
   "cell_type": "markdown",
   "metadata": {},
   "source": [
    "### Derivative with respect to $r$"
   ]
  },
  {
   "cell_type": "markdown",
   "metadata": {},
   "source": [
    "The derivative of this expression with respect to $r$ is"
   ]
  },
  {
   "cell_type": "code",
   "execution_count": null,
   "metadata": {},
   "outputs": [],
   "source": [
    "dLdr = simplify(diff(Lambda, r))\n",
    "dLdr"
   ]
  },
  {
   "cell_type": "markdown",
   "metadata": {},
   "source": [
    "We claim this simplifies to:"
   ]
  },
  {
   "cell_type": "code",
   "execution_count": null,
   "metadata": {},
   "outputs": [],
   "source": [
    "dLdr_paper = 4 * r / pi * sqrt(1 - (b - r) ** 2) * elliptic_e(1 / ksq)\n",
    "dLdr_paper"
   ]
  },
  {
   "cell_type": "markdown",
   "metadata": {},
   "source": [
    "Do the expressions agree?"
   ]
  },
  {
   "cell_type": "code",
   "execution_count": null,
   "metadata": {
    "scrolled": true
   },
   "outputs": [],
   "source": [
    "simplify(dLdr_paper - dLdr) == 0"
   ]
  },
  {
   "cell_type": "markdown",
   "metadata": {},
   "source": [
    "<div style=\"background-color: #f2fcf2; border-color: #b5dfb4; border-left: 5px solid #b5dfb4; padding: 0.5em;\">\n",
    "QED\n",
    "<div/>"
   ]
  },
  {
   "cell_type": "markdown",
   "metadata": {},
   "source": [
    "Now, using the relation\n",
    "\n",
    "$\\ \\ \\ \\ \\ \\ \\ \\ \\ E(m_k) = \\mathrm{cel}(k_c,1,1,1 − m_k)$\n",
    "\n",
    "the derivative may be written as"
   ]
  },
  {
   "cell_type": "markdown",
   "metadata": {},
   "source": [
    "$\\ \\ \\ \\ \\ \\ \\ \\ \\ \\frac{4 r}{\\pi} \\sqrt{1 - (b - r)^2} \\mathrm{cel}(k_c,1,1,k_c^2)$"
   ]
  },
  {
   "cell_type": "markdown",
   "metadata": {},
   "source": [
    "<div style=\"background-color: #f2fcf2; border-color: #b5dfb4; border-left: 5px solid #b5dfb4; padding: 0.5em;\">\n",
    "QED\n",
    "<div/>"
   ]
  },
  {
   "cell_type": "markdown",
   "metadata": {},
   "source": [
    "### Derivative with respect to $b$"
   ]
  },
  {
   "cell_type": "markdown",
   "metadata": {},
   "source": [
    "The derivative of this expression with respect to $b$ is"
   ]
  },
  {
   "cell_type": "code",
   "execution_count": null,
   "metadata": {},
   "outputs": [],
   "source": [
    "dLdb = simplify(diff(Lambda, b))\n",
    "dLdb"
   ]
  },
  {
   "cell_type": "markdown",
   "metadata": {},
   "source": [
    "We claim this simplifies to:"
   ]
  },
  {
   "cell_type": "code",
   "execution_count": null,
   "metadata": {},
   "outputs": [],
   "source": [
    "dLdb_paper = 2 / (3 * b * pi) * sqrt(1 - (b - r) ** 2) * ((r ** 2 + b ** 2 - 1) * elliptic_e(1 / ksq) + (1 - (b + r) ** 2) * elliptic_k(1 / ksq))\n",
    "dLdb_paper"
   ]
  },
  {
   "cell_type": "markdown",
   "metadata": {},
   "source": [
    "Do the expressions agree?"
   ]
  },
  {
   "cell_type": "code",
   "execution_count": null,
   "metadata": {},
   "outputs": [],
   "source": [
    "simplify(dLdb_paper - dLdb) == 0"
   ]
  },
  {
   "cell_type": "markdown",
   "metadata": {},
   "source": [
    "<div style=\"background-color: #f2fcf2; border-color: #b5dfb4; border-left: 5px solid #b5dfb4; padding: 0.5em;\">\n",
    "QED\n",
    "<div/>"
   ]
  },
  {
   "cell_type": "markdown",
   "metadata": {},
   "source": [
    "Now, using the relation\n",
    "\n",
    "$\\ \\ \\ \\ \\ \\ \\ \\ \\ \\lambda K(k^2) + q E(k^2) = \\mathrm{cel}(k_c, 1, \\lambda + q, \\lambda + q k_c^2)$\n",
    "\n",
    "with \n",
    "\n",
    "$\\ \\ \\ \\ \\ \\ \\ \\ \\ \\lambda = \\frac{1 - (b + r)^2}{2 b r}$\n",
    "\n",
    "and \n",
    "\n",
    "$\\ \\ \\ \\ \\ \\ \\ \\ \\ q = \\frac{r^2 + b^2 - 1}{2 b r}$\n",
    "\n",
    "we have\n",
    "\n",
    "$\\ \\ \\ \\ \\ \\ \\ \\ \\ \\lambda + q =$"
   ]
  },
  {
   "cell_type": "code",
   "execution_count": null,
   "metadata": {},
   "outputs": [],
   "source": [
    "lam = (1 - (b + r) ** 2) / (2 * b * r)\n",
    "q = (r ** 2 + b ** 2 - 1) / (2 * b * r)\n",
    "factor(simplify(lam + q))"
   ]
  },
  {
   "cell_type": "markdown",
   "metadata": {},
   "source": [
    "and\n",
    "\n",
    "$\\ \\ \\ \\ \\ \\ \\ \\ \\ \\lambda + q k_c^2 =$"
   ]
  },
  {
   "cell_type": "code",
   "execution_count": null,
   "metadata": {},
   "outputs": [],
   "source": [
    "kc2 = (1 - 1 / ksq)\n",
    "factor(simplify(lam + q * kc2))"
   ]
  },
  {
   "cell_type": "markdown",
   "metadata": {},
   "source": [
    "$=$"
   ]
  },
  {
   "cell_type": "code",
   "execution_count": null,
   "metadata": {},
   "outputs": [],
   "source": [
    "factor(kc2)"
   ]
  },
  {
   "cell_type": "markdown",
   "metadata": {},
   "source": [
    "$=k_c^2$"
   ]
  },
  {
   "cell_type": "markdown",
   "metadata": {},
   "source": [
    "We can then re-write the derivative as\n",
    "\n",
    "$\\frac{4 r}{3\\pi} \\sqrt{1 - (b - r)^2} \\mathrm{cel}(k_c, 1, -1, k_c^2)$"
   ]
  },
  {
   "cell_type": "markdown",
   "metadata": {},
   "source": [
    "<div style=\"background-color: #f2fcf2; border-color: #b5dfb4; border-left: 5px solid #b5dfb4; padding: 0.5em;\">\n",
    "QED\n",
    "<div/>"
   ]
  },
  {
   "cell_type": "markdown",
   "metadata": {},
   "source": [
    "## r = 0"
   ]
  },
  {
   "cell_type": "markdown",
   "metadata": {
    "collapsed": true
   },
   "source": [
    "In this case, $\\Lambda(r, b) = 0$, so the derivatives are trivially equal to zero."
   ]
  },
  {
   "cell_type": "markdown",
   "metadata": {},
   "source": [
    "<div style=\"background-color: #f2fcf2; border-color: #b5dfb4; border-left: 5px solid #b5dfb4; padding: 0.5em;\">\n",
    "QED\n",
    "<div/>"
   ]
  },
  {
   "cell_type": "markdown",
   "metadata": {},
   "source": [
    "## |r - b| $\\ge$ 1"
   ]
  },
  {
   "cell_type": "markdown",
   "metadata": {},
   "source": [
    "Same here. The derivatives are just zero."
   ]
  },
  {
   "cell_type": "markdown",
   "metadata": {},
   "source": [
    "<div style=\"background-color: #f2fcf2; border-color: #b5dfb4; border-left: 5px solid #b5dfb4; padding: 0.5em;\">\n",
    "QED\n",
    "<div/>"
   ]
  },
  {
   "cell_type": "markdown",
   "metadata": {},
   "source": [
    "## b = 0"
   ]
  },
  {
   "cell_type": "code",
   "execution_count": null,
   "metadata": {},
   "outputs": [],
   "source": [
    "Lambda = -Rational(2, 3) * (1 - r ** 2) ** Rational(3, 2)"
   ]
  },
  {
   "cell_type": "markdown",
   "metadata": {},
   "source": [
    "The expression for lambda is"
   ]
  },
  {
   "cell_type": "code",
   "execution_count": null,
   "metadata": {},
   "outputs": [],
   "source": [
    "Lambda"
   ]
  },
  {
   "cell_type": "markdown",
   "metadata": {},
   "source": [
    "The derivative with respect to $r$ is"
   ]
  },
  {
   "cell_type": "code",
   "execution_count": null,
   "metadata": {},
   "outputs": [],
   "source": [
    "diff(Lambda, r)"
   ]
  },
  {
   "cell_type": "markdown",
   "metadata": {},
   "source": [
    "The expression for $\\Lambda$ does not depend on $b$, so the derivative with respect to $b$ is zero."
   ]
  },
  {
   "cell_type": "markdown",
   "metadata": {},
   "source": [
    "<div style=\"background-color: #f2fcf2; border-color: #b5dfb4; border-left: 5px solid #b5dfb4; padding: 0.5em;\">\n",
    "QED\n",
    "<div/>"
   ]
  },
  {
   "cell_type": "markdown",
   "metadata": {},
   "source": [
    "## b = r < 1/2"
   ]
  },
  {
   "cell_type": "markdown",
   "metadata": {},
   "source": [
    "Let's differentiate the expression for $k^2 > 1$ and substitute $b = r$:"
   ]
  },
  {
   "cell_type": "code",
   "execution_count": null,
   "metadata": {},
   "outputs": [],
   "source": [
    "dLdr_paper = 4 * r / pi * sqrt(1 - (b - r) ** 2) * elliptic_e(1 / ksq)\n",
    "simplify(dLdr_paper.subs({\"b\": r}))"
   ]
  },
  {
   "cell_type": "markdown",
   "metadata": {},
   "source": [
    "<div style=\"background-color: #f2fcf2; border-color: #b5dfb4; border-left: 5px solid #b5dfb4; padding: 0.5em;\">\n",
    "QED\n",
    "<div/>"
   ]
  },
  {
   "cell_type": "markdown",
   "metadata": {},
   "source": [
    "Let's do the same for the $b$ derivative:"
   ]
  },
  {
   "cell_type": "code",
   "execution_count": null,
   "metadata": {},
   "outputs": [],
   "source": [
    "dLdb_paper = 2 / (3 * b * pi) * sqrt(1 - (b - r) ** 2) * ((r ** 2 + b ** 2 - 1) * elliptic_e(1 / ksq) + (1 - (b + r) ** 2) * elliptic_k(1 / ksq))\n",
    "simplify(dLdb_paper.subs({\"b\": r}))"
   ]
  },
  {
   "cell_type": "markdown",
   "metadata": {},
   "source": [
    "Now, using the relation\n",
    "\n",
    "$\\ \\ \\ \\ \\ \\ \\ \\ \\ \\lambda K(k^2) + q E(k^2) = \\mathrm{cel}(k_c, 1, \\lambda + q, \\lambda + q k_c^2)$\n",
    "\n",
    "with \n",
    "\n",
    "$\\ \\ \\ \\ \\ \\ \\ \\ \\ \\lambda = -2 + \\frac{1}{2 r ^ 2}$ \n",
    "\n",
    "and \n",
    "\n",
    "$\\ \\ \\ \\ \\ \\ \\ \\ \\ q = 1 -  \\frac{1}{2 r ^ 2}$,\n",
    "\n",
    "we have\n",
    "\n",
    "$\\ \\ \\ \\ \\ \\ \\ \\ \\ \\lambda + q =$"
   ]
  },
  {
   "cell_type": "code",
   "execution_count": null,
   "metadata": {},
   "outputs": [],
   "source": [
    "lam = -2 + 1 / (2 * r ** 2)\n",
    "q = 1 - 1 / (2 * r ** 2)\n",
    "factor(simplify(lam + q))"
   ]
  },
  {
   "cell_type": "markdown",
   "metadata": {},
   "source": [
    "and\n",
    "\n",
    "$\\ \\ \\ \\ \\ \\ \\ \\ \\ \\lambda + q k_c^2 =$"
   ]
  },
  {
   "cell_type": "code",
   "execution_count": null,
   "metadata": {},
   "outputs": [],
   "source": [
    "kc2 = (1 - 1 / ksq).subs({\"b\": r})\n",
    "simplify(factor(simplify(lam + q * kc2)))"
   ]
  },
  {
   "cell_type": "markdown",
   "metadata": {},
   "source": [
    "$=$"
   ]
  },
  {
   "cell_type": "code",
   "execution_count": null,
   "metadata": {},
   "outputs": [],
   "source": [
    "kc2"
   ]
  },
  {
   "cell_type": "markdown",
   "metadata": {},
   "source": [
    "We can then re-write the derivative as\n",
    "\n",
    "$\\frac{4r}{3\\pi} \\mathrm{cel}(k_c, 1, -1, k_c^2)$"
   ]
  },
  {
   "cell_type": "markdown",
   "metadata": {},
   "source": [
    "<div style=\"background-color: #f2fcf2; border-color: #b5dfb4; border-left: 5px solid #b5dfb4; padding: 0.5em;\">\n",
    "QED\n",
    "<div/>"
   ]
  },
  {
   "cell_type": "markdown",
   "metadata": {},
   "source": [
    "## b = r > 1/2"
   ]
  },
  {
   "cell_type": "markdown",
   "metadata": {},
   "source": [
    "Let's differentiate the expression for $k^2 < 1$ and substitute $b = r$:"
   ]
  },
  {
   "cell_type": "code",
   "execution_count": null,
   "metadata": {},
   "outputs": [],
   "source": [
    "dLdr_paper = (8 * b * r ** 2 * elliptic_e(ksq) + 2 * r * (1 - (b + r) ** 2) * elliptic_k(ksq)) / (pi * sqrt(b * r))\n",
    "simplify(dLdr_paper.subs({\"b\": r}))"
   ]
  },
  {
   "cell_type": "markdown",
   "metadata": {},
   "source": [
    "Now, using the relation\n",
    "\n",
    "$\\ \\ \\ \\ \\ \\ \\ \\ \\ \\lambda K(k^2) + q E(k^2) = \\mathrm{cel}(k_c, 1, \\lambda + q, \\lambda + q k_c^2)$\n",
    "\n",
    "with \n",
    "\n",
    "$\\ \\ \\ \\ \\ \\ \\ \\ \\ \\lambda = -(4 r ^ 2 - 1)$ \n",
    "\n",
    "and \n",
    "\n",
    "$\\ \\ \\ \\ \\ \\ \\ \\ \\ q = 4 r ^ 2$,\n",
    "\n",
    "we have\n",
    "\n",
    "$\\ \\ \\ \\ \\ \\ \\ \\ \\ \\lambda + q =$"
   ]
  },
  {
   "cell_type": "code",
   "execution_count": null,
   "metadata": {},
   "outputs": [],
   "source": [
    "lam = -(4 * r ** 2 - 1)\n",
    "q = 4 * r ** 2\n",
    "factor(simplify(lam + q))"
   ]
  },
  {
   "cell_type": "markdown",
   "metadata": {},
   "source": [
    "and\n",
    "\n",
    "$\\ \\ \\ \\ \\ \\ \\ \\ \\ \\lambda + q k_c^2 =$"
   ]
  },
  {
   "cell_type": "code",
   "execution_count": null,
   "metadata": {},
   "outputs": [],
   "source": [
    "kc2 = (1 - ksq).subs({\"b\": r})\n",
    "simplify(factor(simplify(lam + q * kc2)))"
   ]
  },
  {
   "cell_type": "markdown",
   "metadata": {},
   "source": [
    "We can then re-write the derivative as\n",
    "\n",
    "$\\frac{2}{\\pi} \\mathrm{cel}(k_c, 1, 1, 0)$"
   ]
  },
  {
   "cell_type": "markdown",
   "metadata": {},
   "source": [
    "<div style=\"background-color: #f2fcf2; border-color: #b5dfb4; border-left: 5px solid #b5dfb4; padding: 0.5em;\">\n",
    "QED\n",
    "<div/>"
   ]
  },
  {
   "cell_type": "markdown",
   "metadata": {},
   "source": [
    "Let's do the same for the $b$ derivative:"
   ]
  },
  {
   "cell_type": "code",
   "execution_count": null,
   "metadata": {},
   "outputs": [],
   "source": [
    "dLdb_paper = (4 * r * (r ** 2 + b ** 2 - 1) * elliptic_e(ksq) + 2 * r * (1 - (b + r) ** 2) * elliptic_k(ksq)) / (3 * pi * sqrt(b * r))\n",
    "simplify(dLdb_paper.subs({\"b\": r}))"
   ]
  },
  {
   "cell_type": "markdown",
   "metadata": {},
   "source": [
    "Now, using the relation\n",
    "\n",
    "$\\ \\ \\ \\ \\ \\ \\ \\ \\ \\lambda K(k^2) + q E(k^2) = \\mathrm{cel}(k_c, 1, \\lambda + q, \\lambda + q k_c^2)$\n",
    "\n",
    "with \n",
    "\n",
    "$\\ \\ \\ \\ \\ \\ \\ \\ \\ \\lambda = 4r^2 - 1$ \n",
    "\n",
    "and \n",
    "\n",
    "$\\ \\ \\ \\ \\ \\ \\ \\ \\ q = -2(2r^2 - 1)$,\n",
    "\n",
    "we have\n",
    "\n",
    "$\\ \\ \\ \\ \\ \\ \\ \\ \\ \\lambda + q =$"
   ]
  },
  {
   "cell_type": "code",
   "execution_count": null,
   "metadata": {},
   "outputs": [],
   "source": [
    "lam = (4 * r ** 2 - 1)\n",
    "q = -2 * (2 * r ** 2 - 1)\n",
    "factor(simplify(lam + q))"
   ]
  },
  {
   "cell_type": "markdown",
   "metadata": {},
   "source": [
    "and"
   ]
  },
  {
   "cell_type": "code",
   "execution_count": null,
   "metadata": {},
   "outputs": [],
   "source": [
    "kc2 = (1 - ksq).subs({\"b\": r})\n",
    "simplify(factor(simplify(lam + q * kc2)))"
   ]
  },
  {
   "cell_type": "markdown",
   "metadata": {},
   "source": [
    "$=$"
   ]
  },
  {
   "cell_type": "code",
   "execution_count": null,
   "metadata": {},
   "outputs": [],
   "source": [
    "2 * kc2"
   ]
  },
  {
   "cell_type": "markdown",
   "metadata": {},
   "source": [
    "We can then re-write the derivative as\n",
    "\n",
    "$-\\frac{2}{3\\pi} \\mathrm{cel}(k_c, 1, 1, 2k_c^2)$"
   ]
  },
  {
   "cell_type": "markdown",
   "metadata": {},
   "source": [
    "<div style=\"background-color: #f2fcf2; border-color: #b5dfb4; border-left: 5px solid #b5dfb4; padding: 0.5em;\">\n",
    "QED\n",
    "<div/>"
   ]
  },
  {
   "cell_type": "markdown",
   "metadata": {},
   "source": [
    "## b + r = 1"
   ]
  },
  {
   "cell_type": "markdown",
   "metadata": {},
   "source": [
    "Let's differentiate the expression for $k^2 > 1$ and substitute $b = 1 - r$:"
   ]
  },
  {
   "cell_type": "code",
   "execution_count": null,
   "metadata": {},
   "outputs": [],
   "source": [
    "dLdr_paper = 4 * r / pi * sqrt(1 - (b - r) ** 2) * elliptic_e(1 / ksq)"
   ]
  },
  {
   "cell_type": "code",
   "execution_count": null,
   "metadata": {
    "scrolled": true
   },
   "outputs": [],
   "source": [
    "simplify(dLdr_paper.subs({\"b\": 1 - r}))"
   ]
  },
  {
   "cell_type": "markdown",
   "metadata": {},
   "source": [
    "<div style=\"background-color: #f2fcf2; border-color: #b5dfb4; border-left: 5px solid #b5dfb4; padding: 0.5em;\">\n",
    "QED\n",
    "<div/>"
   ]
  },
  {
   "cell_type": "markdown",
   "metadata": {},
   "source": [
    "Let's do the same for the $b$ derivative:"
   ]
  },
  {
   "cell_type": "code",
   "execution_count": null,
   "metadata": {},
   "outputs": [],
   "source": [
    "dLdb_paper = 2 / (3 * b * pi) * sqrt(1 - (b - r) ** 2) * ((r ** 2 + b ** 2 - 1) * elliptic_e(1 / ksq) + (1 - (b + r) ** 2) * elliptic_k(1 / ksq))"
   ]
  },
  {
   "cell_type": "code",
   "execution_count": null,
   "metadata": {
    "scrolled": true
   },
   "outputs": [],
   "source": [
    "simplify(dLdb_paper.subs({\"b\": 1 - r}))"
   ]
  },
  {
   "cell_type": "markdown",
   "metadata": {},
   "source": [
    "<div style=\"background-color: #f2fcf2; border-color: #b5dfb4; border-left: 5px solid #b5dfb4; padding: 0.5em;\">\n",
    "QED\n",
    "<div/>"
   ]
  },
  {
   "cell_type": "markdown",
   "metadata": {},
   "source": [
    "## b = r = 1/2"
   ]
  },
  {
   "cell_type": "markdown",
   "metadata": {},
   "source": [
    "This is a special case of $b + r = 1$. The derivative with respect to $r$ is thus"
   ]
  },
  {
   "cell_type": "code",
   "execution_count": null,
   "metadata": {},
   "outputs": [],
   "source": [
    "simplify((8 * r * sqrt(r * (-r + 1)) / pi).subs({\"r\": Rational(1, 2)}))"
   ]
  },
  {
   "cell_type": "markdown",
   "metadata": {},
   "source": [
    "<div style=\"background-color: #f2fcf2; border-color: #b5dfb4; border-left: 5px solid #b5dfb4; padding: 0.5em;\">\n",
    "QED\n",
    "<div/>"
   ]
  },
  {
   "cell_type": "markdown",
   "metadata": {},
   "source": [
    "The derivative with respect to $b$ is"
   ]
  },
  {
   "cell_type": "code",
   "execution_count": null,
   "metadata": {},
   "outputs": [],
   "source": [
    "simplify((-8 * r * sqrt(r * (-r + 1)) / (3 * pi)).subs({\"r\": Rational(1, 2)}))"
   ]
  },
  {
   "cell_type": "markdown",
   "metadata": {},
   "source": [
    "<div style=\"background-color: #f2fcf2; border-color: #b5dfb4; border-left: 5px solid #b5dfb4; padding: 0.5em;\">\n",
    "QED\n",
    "<div/>"
   ]
  }
 ],
 "metadata": {
  "kernelspec": {
   "display_name": "Python 3",
   "language": "python",
   "name": "python3"
  },
  "language_info": {
   "codemirror_mode": {
    "name": "ipython",
    "version": 3
   },
   "file_extension": ".py",
   "mimetype": "text/x-python",
   "name": "python",
   "nbconvert_exporter": "python",
   "pygments_lexer": "ipython3",
   "version": "3.6.5"
  }
 },
 "nbformat": 4,
 "nbformat_minor": 2
}
