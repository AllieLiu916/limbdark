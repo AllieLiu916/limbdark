{
 "cells": [
  {
   "cell_type": "markdown",
   "metadata": {},
   "source": [
    "# Area of the occultor \"lens\""
   ]
  },
  {
   "cell_type": "markdown",
   "metadata": {},
   "source": [
    "In this notebook we'll validate the analytical expression for the area of the \"lens\" of overlap between the occulted body and the occultor."
   ]
  },
  {
   "cell_type": "code",
   "execution_count": 2,
   "metadata": {},
   "outputs": [],
   "source": [
    "import numpy as np\n",
    "import matplotlib.pyplot as pl\n",
    "%matplotlib notebook"
   ]
  },
  {
   "cell_type": "markdown",
   "metadata": {},
   "source": [
    "Here is the analytical expression for the lens area defined in the text:"
   ]
  },
  {
   "cell_type": "code",
   "execution_count": 1,
   "metadata": {},
   "outputs": [],
   "source": [
    "def ALens(r, b):\n",
    "    if (1 + r <= b):\n",
    "        return 0\n",
    "    elif abs(1 - r) < b and b <= 1 + r:\n",
    "        term = np.sqrt((4 * b ** 2 - (1 + b ** 2 - r ** 2) ** 2) / 4)\n",
    "        kappa0 = np.arccos(((r - 1) * (r + 1) + b ** 2) / (2 * b * r))\n",
    "        kappa1 = np.arccos(((1 - r) * (1 + r) + b ** 2) / (2 * b))\n",
    "        return r ** 2 * kappa0 + kappa1 - term\n",
    "    elif b <= 1 - r:\n",
    "        return np.pi * r ** 2\n",
    "    elif b <= r - 1:\n",
    "        return np.pi\n",
    "    else:\n",
    "        raise NotImplementedError(\"Missing case!\")"
   ]
  },
  {
   "cell_type": "markdown",
   "metadata": {},
   "source": [
    "And here we define a numerical version to validate it. We grid up the smaller of the two bodies and add up the area from each cell that is inside both the occultor and the occulted body."
   ]
  },
  {
   "cell_type": "code",
   "execution_count": 42,
   "metadata": {},
   "outputs": [],
   "source": [
    "def ALensNumerical(r, b, n=300):\n",
    "    if r < 1:\n",
    "        xarr = np.linspace(-r, r, n)\n",
    "        yarr = np.linspace(b - r, b + r, n)\n",
    "        dA = (4. * r ** 2) / n ** 2\n",
    "    else:\n",
    "        xarr = np.linspace(-1, 1, n)\n",
    "        yarr = np.linspace(-1, 1, n)\n",
    "        dA = 4. / n ** 2\n",
    "    area = 0 \n",
    "    for i, x in enumerate(xarr):\n",
    "        for j, y in enumerate(yarr):\n",
    "            # If inside the occulted body\n",
    "            if (x ** 2 + y ** 2 <= 1):\n",
    "                # If inside the occultor:\n",
    "                if (x ** 2 + (y - b) ** 2 <= r ** 2):\n",
    "                    area += dA\n",
    "    return area"
   ]
  },
  {
   "cell_type": "markdown",
   "metadata": {},
   "source": [
    "Let's show that the expressions yield the same answer (to within the error of the numerical method) over a large range of $b$ and $r$ values:"
   ]
  },
  {
   "cell_type": "code",
   "execution_count": 43,
   "metadata": {},
   "outputs": [
    {
     "data": {
      "image/png": "[encoded data removed]",
      "text/plain": [
       "<Figure size 720x576 with 2 Axes>"
      ]
     },
     "metadata": {},
     "output_type": "display_data"
    }
   ],
   "source": [
    "n = 15\n",
    "barr = np.linspace(0, 2, n)\n",
    "rarr = np.linspace(0, 2, n)\n",
    "diff = np.zeros((n, n))\n",
    "for i, b in enumerate(barr):\n",
    "    for j, r in enumerate(rarr):\n",
    "        diff[j, i] = abs(ALens(r, b) - ALensNumerical(r, b))\n",
    "\n",
    "fig = pl.figure(figsize=(10, 8))\n",
    "pl.imshow(diff, origin=\"lower\", extent=(0, 2, 0, 2))\n",
    "pl.xlabel(\"Impact parameter\", fontsize=16)\n",
    "pl.ylabel(\"Radius ratio\", fontsize=16)\n",
    "cb = pl.colorbar()\n",
    "cb.ax.set_ylabel(\"Difference\", fontsize=16);"
   ]
  },
  {
   "cell_type": "markdown",
   "metadata": {},
   "source": [
    "The difference is small ($<0.02$) everywhere, and actually continues to decrease as the number of grid points is increased in `ALensNumerical`. So our expression is correct!"
   ]
  }
 ],
 "metadata": {
  "kernelspec": {
   "display_name": "Python 3",
   "language": "python",
   "name": "python3"
  },
  "language_info": {
   "codemirror_mode": {
    "name": "ipython",
    "version": 3
   },
   "file_extension": ".py",
   "mimetype": "text/x-python",
   "name": "python",
   "nbconvert_exporter": "python",
   "pygments_lexer": "ipython3",
   "version": "3.6.5"
  }
 },
 "nbformat": 4,
 "nbformat_minor": 2
}
