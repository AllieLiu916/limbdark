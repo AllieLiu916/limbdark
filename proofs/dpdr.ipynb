{
 "cells": [
  {
   "cell_type": "markdown",
   "metadata": {},
   "source": [
    "# Derivative of P(G_n) with respect to r:"
   ]
  },
  {
   "cell_type": "markdown",
   "metadata": {},
   "source": [
    "The derivative of the integrand of P(G_n) with respect to r\n",
    "compared with the analytic formula for the derivative:"
   ]
  },
  {
   "cell_type": "code",
   "execution_count": 62,
   "metadata": {
    "collapsed": false
   },
   "outputs": [
    {
     "name": "stdout",
     "output_type": "stream",
     "text": [
      "IPython console for SymPy 0.7.6.1 (Python 3.5.2-64-bit) (ground types: python)\n",
      "Using sympy version 0.7.6.1\n"
     ]
    }
   ],
   "source": [
    "import numpy as np\n",
    "import matplotlib.pyplot as pl\n",
    "%matplotlib notebook\n",
    "from IPython.display import display, Math\n",
    "import sympy\n",
    "from sympy import *\n",
    "from sympy.mpmath import *\n",
    "\n",
    "# Initialize the session\n",
    "init_session(quiet=True)\n",
    "\n",
    "# Let's report what version of sympy this is\n",
    "print(\"Using sympy version\", sympy.__version__)"
   ]
  },
  {
   "cell_type": "markdown",
   "metadata": {},
   "source": [
    "Define integrand of P(G_n):"
   ]
  },
  {
   "cell_type": "code",
   "execution_count": 67,
   "metadata": {
    "collapsed": false
   },
   "outputs": [],
   "source": [
    "# Define derivative of the the integrand of P(G_n):\n",
    "pintegrand, dpdr, dpdb, dpdr2, dpdb2, dpdb_diff, dpdr_diff, r, b, n, x, m_n, m_nm2 = symbols('pintegrand dpdr dpdb dpdr2 dpdb2 dpdb_diff dpdr_diff r b n x m_n m_nm2')\n",
    "pintegrand = 2*r*sqrt(1-(r-b)**2-4*b*r*sin(x)**2)**n*(r-b+2*b*sin(x)**2)\n",
    "dpdr = diff(pintegrand,r)\n",
    "dpdb = diff(pintegrand,b)"
   ]
  },
  {
   "cell_type": "markdown",
   "metadata": {},
   "source": [
    "Simplify the result:"
   ]
  },
  {
   "cell_type": "code",
   "execution_count": 68,
   "metadata": {
    "collapsed": false
   },
   "outputs": [
    {
     "data": {
      "image/png": "[encoded data removed]",
      "text/latex": [
       "$$- 2 \\left(n r \\left(- 2 b \\cos^{2}{\\left (x \\right )} + b + r\\right)^{2} + \\left(- 2 b \\cos^{2}{\\left (x \\right )} + b + 2 r\\right) \\left(4 b r \\sin^{2}{\\left (x \\right )} + \\left(b - r\\right)^{2} - 1\\right)\\right) \\left(- 4 b r \\sin^{2}{\\left (x \\right )} - \\left(b - r\\right)^{2} + 1\\right)^{\\frac{n}{2} - 1}$$"
      ],
      "text/plain": [
       "                                                                              \n",
       "                                                                              \n",
       "   ⎛                           2                                              \n",
       "   ⎜    ⎛         2           ⎞    ⎛         2             ⎞ ⎛         2      \n",
       "-2⋅⎝n⋅r⋅⎝- 2⋅b⋅cos (x) + b + r⎠  + ⎝- 2⋅b⋅cos (x) + b + 2⋅r⎠⋅⎝4⋅b⋅r⋅sin (x) + \n",
       "\n",
       "                                               n    \n",
       "                                               ─ - 1\n",
       "             ⎞                                 2    \n",
       "       2    ⎞⎟ ⎛           2             2    ⎞     \n",
       "(b - r)  - 1⎠⎠⋅⎝- 4⋅b⋅r⋅sin (x) - (b - r)  + 1⎠     "
      ]
     },
     "execution_count": 68,
     "metadata": {},
     "output_type": "execute_result"
    }
   ],
   "source": [
    "simplify(dpdr)"
   ]
  },
  {
   "cell_type": "markdown",
   "metadata": {},
   "source": [
    "Now compute the right hand side:"
   ]
  },
  {
   "cell_type": "code",
   "execution_count": 69,
   "metadata": {
    "collapsed": false
   },
   "outputs": [],
   "source": [
    "m_n = sqrt(1-(r-b)**2-4*b*r*sin(x)**2)**n\n",
    "m_nm2 = sqrt(1-(r-b)**2-4*b*r*sin(x)**2)**(n-2)\n",
    "dpdr2 = 2*r*((n+2)*m_n-n*m_nm2)\n",
    "dpdb2 = n/b*((r**2+b**2)*(m_n-m_nm2)+(r**2-b**2)**2*m_nm2)"
   ]
  },
  {
   "cell_type": "markdown",
   "metadata": {},
   "source": [
    "Next, show that these are equal:"
   ]
  },
  {
   "cell_type": "code",
   "execution_count": 70,
   "metadata": {
    "collapsed": false
   },
   "outputs": [],
   "source": [
    "dpdr_diff = dpdr-dpdr2\n",
    "dpdb_diff = dpdb-dpdb2"
   ]
  },
  {
   "cell_type": "markdown",
   "metadata": {},
   "source": [
    "Simplify this expression:"
   ]
  },
  {
   "cell_type": "code",
   "execution_count": 72,
   "metadata": {
    "collapsed": false
   },
   "outputs": [
    {
     "ename": "TypeError",
     "evalue": "cannot create mpf from -pi/2",
     "output_type": "error",
     "traceback": [
      "\u001b[0;31m---------------------------------------------------------------------------\u001b[0m",
      "\u001b[0;31mTypeError\u001b[0m                                 Traceback (most recent call last)",
      "\u001b[0;32m<ipython-input-72-8eefc9dab147>\u001b[0m in \u001b[0;36m<module>\u001b[0;34m()\u001b[0m\n\u001b[0;32m----> 1\u001b[0;31m \u001b[0mquad\u001b[0m\u001b[0;34m(\u001b[0m\u001b[0;32mlambda\u001b[0m \u001b[0mx\u001b[0m\u001b[0;34m:\u001b[0m \u001b[0mdpdr_diff\u001b[0m\u001b[0;34m.\u001b[0m\u001b[0msubs\u001b[0m\u001b[0;34m(\u001b[0m\u001b[0;34m{\u001b[0m\u001b[0;34m\"n\"\u001b[0m\u001b[0;34m:\u001b[0m\u001b[0;36m2\u001b[0m\u001b[0;34m,\u001b[0m\u001b[0;34m\"b\"\u001b[0m\u001b[0;34m:\u001b[0m\u001b[0;36m0.3\u001b[0m\u001b[0;34m,\u001b[0m\u001b[0;34m\"r\"\u001b[0m\u001b[0;34m:\u001b[0m\u001b[0;36m0.5\u001b[0m\u001b[0;34m}\u001b[0m\u001b[0;34m)\u001b[0m\u001b[0;34m,\u001b[0m\u001b[0;34m[\u001b[0m\u001b[0;34m-\u001b[0m\u001b[0mpi\u001b[0m\u001b[0;34m/\u001b[0m\u001b[0;36m2\u001b[0m\u001b[0;34m,\u001b[0m\u001b[0mpi\u001b[0m\u001b[0;34m/\u001b[0m\u001b[0;36m2\u001b[0m\u001b[0;34m]\u001b[0m\u001b[0;34m)\u001b[0m\u001b[0;34m\u001b[0m\u001b[0m\n\u001b[0m",
      "\u001b[0;32m/Users/ericagol/anaconda/lib/python3.5/site-packages/sympy/mpmath/calculus/quadrature.py\u001b[0m in \u001b[0;36mquad\u001b[0;34m(ctx, f, *points, **kwargs)\u001b[0m\n\u001b[1;32m    741\u001b[0m             \u001b[0mctx\u001b[0m\u001b[0;34m.\u001b[0m\u001b[0mprec\u001b[0m \u001b[0;34m+=\u001b[0m \u001b[0;36m20\u001b[0m\u001b[0;34m\u001b[0m\u001b[0m\n\u001b[1;32m    742\u001b[0m             \u001b[0;32mif\u001b[0m \u001b[0mdim\u001b[0m \u001b[0;34m==\u001b[0m \u001b[0;36m1\u001b[0m\u001b[0;34m:\u001b[0m\u001b[0;34m\u001b[0m\u001b[0m\n\u001b[0;32m--> 743\u001b[0;31m                 \u001b[0mv\u001b[0m\u001b[0;34m,\u001b[0m \u001b[0merr\u001b[0m \u001b[0;34m=\u001b[0m \u001b[0mrule\u001b[0m\u001b[0;34m.\u001b[0m\u001b[0msummation\u001b[0m\u001b[0;34m(\u001b[0m\u001b[0mf\u001b[0m\u001b[0;34m,\u001b[0m \u001b[0mpoints\u001b[0m\u001b[0;34m[\u001b[0m\u001b[0;36m0\u001b[0m\u001b[0;34m]\u001b[0m\u001b[0;34m,\u001b[0m \u001b[0mprec\u001b[0m\u001b[0;34m,\u001b[0m \u001b[0mepsilon\u001b[0m\u001b[0;34m,\u001b[0m \u001b[0mm\u001b[0m\u001b[0;34m,\u001b[0m \u001b[0mverbose\u001b[0m\u001b[0;34m)\u001b[0m\u001b[0;34m\u001b[0m\u001b[0m\n\u001b[0m\u001b[1;32m    744\u001b[0m             \u001b[0;32melif\u001b[0m \u001b[0mdim\u001b[0m \u001b[0;34m==\u001b[0m \u001b[0;36m2\u001b[0m\u001b[0;34m:\u001b[0m\u001b[0;34m\u001b[0m\u001b[0m\n\u001b[1;32m    745\u001b[0m                 v, err = rule.summation(lambda x: \\\n",
      "\u001b[0;32m/Users/ericagol/anaconda/lib/python3.5/site-packages/sympy/mpmath/calculus/quadrature.py\u001b[0m in \u001b[0;36msummation\u001b[0;34m(self, f, points, prec, epsilon, max_degree, verbose)\u001b[0m\n\u001b[1;32m    226\u001b[0m             \u001b[0mresults\u001b[0m \u001b[0;34m=\u001b[0m \u001b[0;34m[\u001b[0m\u001b[0;34m]\u001b[0m\u001b[0;34m\u001b[0m\u001b[0m\n\u001b[1;32m    227\u001b[0m             \u001b[0;32mfor\u001b[0m \u001b[0mdegree\u001b[0m \u001b[0;32min\u001b[0m \u001b[0mxrange\u001b[0m\u001b[0;34m(\u001b[0m\u001b[0;36m1\u001b[0m\u001b[0;34m,\u001b[0m \u001b[0mmax_degree\u001b[0m\u001b[0;34m+\u001b[0m\u001b[0;36m1\u001b[0m\u001b[0;34m)\u001b[0m\u001b[0;34m:\u001b[0m\u001b[0;34m\u001b[0m\u001b[0m\n\u001b[0;32m--> 228\u001b[0;31m                 \u001b[0mnodes\u001b[0m \u001b[0;34m=\u001b[0m \u001b[0mself\u001b[0m\u001b[0;34m.\u001b[0m\u001b[0mget_nodes\u001b[0m\u001b[0;34m(\u001b[0m\u001b[0ma\u001b[0m\u001b[0;34m,\u001b[0m \u001b[0mb\u001b[0m\u001b[0;34m,\u001b[0m \u001b[0mdegree\u001b[0m\u001b[0;34m,\u001b[0m \u001b[0mprec\u001b[0m\u001b[0;34m,\u001b[0m \u001b[0mverbose\u001b[0m\u001b[0;34m)\u001b[0m\u001b[0;34m\u001b[0m\u001b[0m\n\u001b[0m\u001b[1;32m    229\u001b[0m                 \u001b[0;32mif\u001b[0m \u001b[0mverbose\u001b[0m\u001b[0;34m:\u001b[0m\u001b[0;34m\u001b[0m\u001b[0m\n\u001b[1;32m    230\u001b[0m                     print(\"Integrating from %s to %s (degree %s of %s)\" % \\\n",
      "\u001b[0;32m/Users/ericagol/anaconda/lib/python3.5/site-packages/sympy/mpmath/calculus/quadrature.py\u001b[0m in \u001b[0;36mget_nodes\u001b[0;34m(self, a, b, degree, prec, verbose)\u001b[0m\n\u001b[1;32m     65\u001b[0m                 \u001b[0mself\u001b[0m\u001b[0;34m.\u001b[0m\u001b[0mstandard_cache\u001b[0m\u001b[0;34m[\u001b[0m\u001b[0mdegree\u001b[0m\u001b[0;34m,\u001b[0m \u001b[0mprec\u001b[0m\u001b[0;34m]\u001b[0m \u001b[0;34m=\u001b[0m \u001b[0mnodes\u001b[0m\u001b[0;34m\u001b[0m\u001b[0m\n\u001b[1;32m     66\u001b[0m             \u001b[0;31m# Transform to general interval\u001b[0m\u001b[0;34m\u001b[0m\u001b[0;34m\u001b[0m\u001b[0m\n\u001b[0;32m---> 67\u001b[0;31m             \u001b[0mnodes\u001b[0m \u001b[0;34m=\u001b[0m \u001b[0mself\u001b[0m\u001b[0;34m.\u001b[0m\u001b[0mtransform_nodes\u001b[0m\u001b[0;34m(\u001b[0m\u001b[0mnodes\u001b[0m\u001b[0;34m,\u001b[0m \u001b[0ma\u001b[0m\u001b[0;34m,\u001b[0m \u001b[0mb\u001b[0m\u001b[0;34m,\u001b[0m \u001b[0mverbose\u001b[0m\u001b[0;34m)\u001b[0m\u001b[0;34m\u001b[0m\u001b[0m\n\u001b[0m\u001b[1;32m     68\u001b[0m             \u001b[0;32mif\u001b[0m \u001b[0mkey\u001b[0m \u001b[0;32min\u001b[0m \u001b[0mself\u001b[0m\u001b[0;34m.\u001b[0m\u001b[0minterval_count\u001b[0m\u001b[0;34m:\u001b[0m\u001b[0;34m\u001b[0m\u001b[0m\n\u001b[1;32m     69\u001b[0m                 \u001b[0mself\u001b[0m\u001b[0;34m.\u001b[0m\u001b[0mtransformed_cache\u001b[0m\u001b[0;34m[\u001b[0m\u001b[0mkey\u001b[0m\u001b[0;34m]\u001b[0m \u001b[0;34m=\u001b[0m \u001b[0mnodes\u001b[0m\u001b[0;34m\u001b[0m\u001b[0m\n",
      "\u001b[0;32m/Users/ericagol/anaconda/lib/python3.5/site-packages/sympy/mpmath/calculus/quadrature.py\u001b[0m in \u001b[0;36mtransform_nodes\u001b[0;34m(self, nodes, a, b, verbose)\u001b[0m\n\u001b[1;32m     91\u001b[0m         \"\"\"\n\u001b[1;32m     92\u001b[0m         \u001b[0mctx\u001b[0m \u001b[0;34m=\u001b[0m \u001b[0mself\u001b[0m\u001b[0;34m.\u001b[0m\u001b[0mctx\u001b[0m\u001b[0;34m\u001b[0m\u001b[0m\n\u001b[0;32m---> 93\u001b[0;31m         \u001b[0ma\u001b[0m \u001b[0;34m=\u001b[0m \u001b[0mctx\u001b[0m\u001b[0;34m.\u001b[0m\u001b[0mconvert\u001b[0m\u001b[0;34m(\u001b[0m\u001b[0ma\u001b[0m\u001b[0;34m)\u001b[0m\u001b[0;34m\u001b[0m\u001b[0m\n\u001b[0m\u001b[1;32m     94\u001b[0m         \u001b[0mb\u001b[0m \u001b[0;34m=\u001b[0m \u001b[0mctx\u001b[0m\u001b[0;34m.\u001b[0m\u001b[0mconvert\u001b[0m\u001b[0;34m(\u001b[0m\u001b[0mb\u001b[0m\u001b[0;34m)\u001b[0m\u001b[0;34m\u001b[0m\u001b[0m\n\u001b[1;32m     95\u001b[0m         \u001b[0mone\u001b[0m \u001b[0;34m=\u001b[0m \u001b[0mctx\u001b[0m\u001b[0;34m.\u001b[0m\u001b[0mone\u001b[0m\u001b[0;34m\u001b[0m\u001b[0m\n",
      "\u001b[0;32m/Users/ericagol/anaconda/lib/python3.5/site-packages/sympy/mpmath/ctx_mp_python.py\u001b[0m in \u001b[0;36mconvert\u001b[0;34m(ctx, x, strings)\u001b[0m\n\u001b[1;32m    660\u001b[0m         \u001b[0;32mif\u001b[0m \u001b[0mhasattr\u001b[0m\u001b[0;34m(\u001b[0m\u001b[0mx\u001b[0m\u001b[0;34m,\u001b[0m \u001b[0;34m'_mpmath_'\u001b[0m\u001b[0;34m)\u001b[0m\u001b[0;34m:\u001b[0m\u001b[0;34m\u001b[0m\u001b[0m\n\u001b[1;32m    661\u001b[0m             \u001b[0;32mreturn\u001b[0m \u001b[0mctx\u001b[0m\u001b[0;34m.\u001b[0m\u001b[0mconvert\u001b[0m\u001b[0;34m(\u001b[0m\u001b[0mx\u001b[0m\u001b[0;34m.\u001b[0m\u001b[0m_mpmath_\u001b[0m\u001b[0;34m(\u001b[0m\u001b[0mprec\u001b[0m\u001b[0;34m,\u001b[0m \u001b[0mrounding\u001b[0m\u001b[0;34m)\u001b[0m\u001b[0;34m)\u001b[0m\u001b[0;34m\u001b[0m\u001b[0m\n\u001b[0;32m--> 662\u001b[0;31m         \u001b[0;32mreturn\u001b[0m \u001b[0mctx\u001b[0m\u001b[0;34m.\u001b[0m\u001b[0m_convert_fallback\u001b[0m\u001b[0;34m(\u001b[0m\u001b[0mx\u001b[0m\u001b[0;34m,\u001b[0m \u001b[0mstrings\u001b[0m\u001b[0;34m)\u001b[0m\u001b[0;34m\u001b[0m\u001b[0m\n\u001b[0m\u001b[1;32m    663\u001b[0m \u001b[0;34m\u001b[0m\u001b[0m\n\u001b[1;32m    664\u001b[0m     \u001b[0;32mdef\u001b[0m \u001b[0misnan\u001b[0m\u001b[0;34m(\u001b[0m\u001b[0mctx\u001b[0m\u001b[0;34m,\u001b[0m \u001b[0mx\u001b[0m\u001b[0;34m)\u001b[0m\u001b[0;34m:\u001b[0m\u001b[0;34m\u001b[0m\u001b[0m\n",
      "\u001b[0;32m/Users/ericagol/anaconda/lib/python3.5/site-packages/sympy/mpmath/ctx_mp.py\u001b[0m in \u001b[0;36m_convert_fallback\u001b[0;34m(ctx, x, strings)\u001b[0m\n\u001b[1;32m    612\u001b[0m             \u001b[0;32melse\u001b[0m\u001b[0;34m:\u001b[0m\u001b[0;34m\u001b[0m\u001b[0m\n\u001b[1;32m    613\u001b[0m                 \u001b[0;32mraise\u001b[0m \u001b[0mValueError\u001b[0m\u001b[0;34m(\u001b[0m\u001b[0;34m\"can only create mpf from zero-width interval\"\u001b[0m\u001b[0;34m)\u001b[0m\u001b[0;34m\u001b[0m\u001b[0m\n\u001b[0;32m--> 614\u001b[0;31m         \u001b[0;32mraise\u001b[0m \u001b[0mTypeError\u001b[0m\u001b[0;34m(\u001b[0m\u001b[0;34m\"cannot create mpf from \"\u001b[0m \u001b[0;34m+\u001b[0m \u001b[0mrepr\u001b[0m\u001b[0;34m(\u001b[0m\u001b[0mx\u001b[0m\u001b[0;34m)\u001b[0m\u001b[0;34m)\u001b[0m\u001b[0;34m\u001b[0m\u001b[0m\n\u001b[0m\u001b[1;32m    615\u001b[0m \u001b[0;34m\u001b[0m\u001b[0m\n\u001b[1;32m    616\u001b[0m     \u001b[0;32mdef\u001b[0m \u001b[0mmpmathify\u001b[0m\u001b[0;34m(\u001b[0m\u001b[0mctx\u001b[0m\u001b[0;34m,\u001b[0m \u001b[0;34m*\u001b[0m\u001b[0margs\u001b[0m\u001b[0;34m,\u001b[0m \u001b[0;34m**\u001b[0m\u001b[0mkwargs\u001b[0m\u001b[0;34m)\u001b[0m\u001b[0;34m:\u001b[0m\u001b[0;34m\u001b[0m\u001b[0m\n",
      "\u001b[0;31mTypeError\u001b[0m: cannot create mpf from -pi/2"
     ]
    }
   ],
   "source": [
    "quad(lambda x: dpdr_diff.subs({\"n\":2,\"b\":0.3,\"r\":0.5}),[-pi/2,pi/2])"
   ]
  },
  {
   "cell_type": "markdown",
   "metadata": {},
   "source": [
    "That's it for now!"
   ]
  },
  {
   "cell_type": "code",
   "execution_count": 54,
   "metadata": {
    "collapsed": false
   },
   "outputs": [
    {
     "data": {
      "image/png": "[encoded data removed]",
      "text/latex": [
       "$$- 2 b \\left(- b^{2} - 4 b r \\sin^{2}{\\left (x \\right )} + 2 b r - r^{2} + 1\\right)^{\\frac{n}{2} - 1} \\left(2 b^{2} \\sin^{2}{\\left (x \\right )} - b^{2} + 4 b n r \\sin^{4}{\\left (x \\right )} - 4 b n r \\sin^{2}{\\left (x \\right )} + 8 b r \\sin^{4}{\\left (x \\right )} - 8 b r \\sin^{2}{\\left (x \\right )} + 2 b r + 2 r^{2} \\sin^{2}{\\left (x \\right )} - r^{2} - 2 \\sin^{2}{\\left (x \\right )} + 1\\right)$$"
      ],
      "text/plain": [
       "                                            n                                 \n",
       "                                            ─ - 1                             \n",
       "                                            2                                 \n",
       "     ⎛   2            2               2    ⎞      ⎛   2    2       2          \n",
       "-2⋅b⋅⎝- b  - 4⋅b⋅r⋅sin (x) + 2⋅b⋅r - r  + 1⎠     ⋅⎝2⋅b ⋅sin (x) - b  + 4⋅b⋅n⋅r\n",
       "\n",
       "                                                                              \n",
       "                                                                              \n",
       "                                                                              \n",
       "    4                 2               4               2                 2    2\n",
       "⋅sin (x) - 4⋅b⋅n⋅r⋅sin (x) + 8⋅b⋅r⋅sin (x) - 8⋅b⋅r⋅sin (x) + 2⋅b⋅r + 2⋅r ⋅sin \n",
       "\n",
       "                         \n",
       "                         \n",
       "                         \n",
       "       2        2       ⎞\n",
       "(x) - r  - 2⋅sin (x) + 1⎠"
      ]
     },
     "execution_count": 54,
     "metadata": {},
     "output_type": "execute_result"
    }
   ],
   "source": [
    "simplify(dpdr_diff)"
   ]
  },
  {
   "cell_type": "code",
   "execution_count": 55,
   "metadata": {
    "collapsed": false
   },
   "outputs": [
    {
     "data": {
      "image/png": "[encoded data removed]",
      "text/latex": [
       "$$\\frac{n r \\left(- 4 b r \\sin^{2}{\\left (x \\right )} - \\left(- b + r\\right)^{2} + 1\\right)^{\\frac{n}{2}}}{- 4 b r \\sin^{2}{\\left (x \\right )} - \\left(- b + r\\right)^{2} + 1} \\left(- 4 b \\sin^{2}{\\left (x \\right )} + 2 b - 2 r\\right) \\left(2 b \\sin^{2}{\\left (x \\right )} - b + r\\right) + 2 r \\left(- 4 b r \\sin^{2}{\\left (x \\right )} - \\left(- b + r\\right)^{2} + 1\\right)^{\\frac{n}{2}} + 2 \\left(2 b \\sin^{2}{\\left (x \\right )} - b + r\\right) \\left(- 4 b r \\sin^{2}{\\left (x \\right )} - \\left(- b + r\\right)^{2} + 1\\right)^{\\frac{n}{2}}$$"
      ],
      "text/plain": [
       "                                                                              \n",
       "                                                                              \n",
       "                                                                              \n",
       "    ⎛         2               ⎞ ⎛       2           ⎞ ⎛           2           \n",
       "n⋅r⋅⎝- 4⋅b⋅sin (x) + 2⋅b - 2⋅r⎠⋅⎝2⋅b⋅sin (x) - b + r⎠⋅⎝- 4⋅b⋅r⋅sin (x) - (-b +\n",
       "──────────────────────────────────────────────────────────────────────────────\n",
       "                                       2              2                       \n",
       "                            - 4⋅b⋅r⋅sin (x) - (-b + r)  + 1                   \n",
       "\n",
       "         n                                                                    \n",
       "         ─                                        n                           \n",
       "         2                                        ─                           \n",
       "   2    ⎞                                         2                           \n",
       " r)  + 1⎠        ⎛           2              2    ⎞      ⎛       2           ⎞ \n",
       "────────── + 2⋅r⋅⎝- 4⋅b⋅r⋅sin (x) - (-b + r)  + 1⎠  + 2⋅⎝2⋅b⋅sin (x) - b + r⎠⋅\n",
       "                                                                              \n",
       "                                                                              \n",
       "\n",
       "                                  \n",
       "                                 n\n",
       "                                 ─\n",
       "                                 2\n",
       "⎛           2              2    ⎞ \n",
       "⎝- 4⋅b⋅r⋅sin (x) - (-b + r)  + 1⎠ \n",
       "                                  \n",
       "                                  "
      ]
     },
     "execution_count": 55,
     "metadata": {},
     "output_type": "execute_result"
    }
   ],
   "source": [
    "dpdr"
   ]
  },
  {
   "cell_type": "code",
   "execution_count": 56,
   "metadata": {
    "collapsed": false
   },
   "outputs": [
    {
     "data": {
      "image/png": "[encoded data removed]",
      "text/latex": [
       "$$2 r \\left(- n \\left(- 4 b r \\sin^{2}{\\left (x \\right )} - \\left(- b + r\\right)^{2} + 1\\right)^{\\frac{n}{2} - 1} + \\left(n + 2\\right) \\left(- 4 b r \\sin^{2}{\\left (x \\right )} - \\left(- b + r\\right)^{2} + 1\\right)^{\\frac{n}{2}}\\right)$$"
      ],
      "text/plain": [
       "    ⎛                                     n                                   \n",
       "    ⎜                                     ─ - 1                               \n",
       "    ⎜                                     2                                   \n",
       "    ⎜    ⎛           2              2    ⎞                ⎛           2       \n",
       "2⋅r⋅⎝- n⋅⎝- 4⋅b⋅r⋅sin (x) - (-b + r)  + 1⎠      + (n + 2)⋅⎝- 4⋅b⋅r⋅sin (x) - (\n",
       "\n",
       "             n⎞\n",
       "             ─⎟\n",
       "             2⎟\n",
       "       2    ⎞ ⎟\n",
       "-b + r)  + 1⎠ ⎠"
      ]
     },
     "execution_count": 56,
     "metadata": {},
     "output_type": "execute_result"
    }
   ],
   "source": [
    "dpdr2"
   ]
  },
  {
   "cell_type": "code",
   "execution_count": 60,
   "metadata": {
    "collapsed": false
   },
   "outputs": [
    {
     "data": {
      "image/png": "[encoded data removed]",
      "text/latex": [
       "$$\\frac{1}{n + 2} \\left(- b^{2} - 4 b r \\sin^{2}{\\left (x \\right )} + 2 b r - r^{2} + 1\\right)^{\\frac{n}{2} - 1} \\left(- b^{4} n + 2 b^{2} n r^{2} + 2 b^{2} n - n r^{4} + 2 n r^{2} - n + \\left(b^{2} + 4 b r \\sin^{2}{\\left (x \\right )} - 2 b r + r^{2} - 1\\right) \\left(b^{2} n - 4 b n r \\sin^{2}{\\left (x \\right )} + 2 b n r - 8 b r \\sin^{2}{\\left (x \\right )} + 4 b r + n r^{2} - n\\right)\\right)$$"
      ],
      "text/plain": [
       "                                       n                                      \n",
       "                                       ─ - 1                                  \n",
       "                                       2                                      \n",
       "⎛   2            2               2    ⎞      ⎛   4        2    2      2       \n",
       "⎝- b  - 4⋅b⋅r⋅sin (x) + 2⋅b⋅r - r  + 1⎠     ⋅⎝- b ⋅n + 2⋅b ⋅n⋅r  + 2⋅b ⋅n - n⋅\n",
       "──────────────────────────────────────────────────────────────────────────────\n",
       "                                                                              \n",
       "\n",
       "                                                                              \n",
       "                                                                              \n",
       "                                                                              \n",
       " 4        2       ⎛ 2            2               2    ⎞ ⎛ 2                2  \n",
       "r  + 2⋅n⋅r  - n + ⎝b  + 4⋅b⋅r⋅sin (x) - 2⋅b⋅r + r  - 1⎠⋅⎝b ⋅n - 4⋅b⋅n⋅r⋅sin (x\n",
       "──────────────────────────────────────────────────────────────────────────────\n",
       "                     n + 2                                                    \n",
       "\n",
       "                                                \n",
       "                                                \n",
       "                                                \n",
       "                       2                 2    ⎞⎞\n",
       ") + 2⋅b⋅n⋅r - 8⋅b⋅r⋅sin (x) + 4⋅b⋅r + n⋅r  - n⎠⎠\n",
       "────────────────────────────────────────────────\n",
       "                                                "
      ]
     },
     "execution_count": 60,
     "metadata": {},
     "output_type": "execute_result"
    }
   ],
   "source": [
    "simplify(factor(pintegrand - (2*r**2*m_n-n/(n+2)*((1-r**2-b**2)*m_n+(1-(r-b)**2)*((r+b)**2-1)*m_nm2))))"
   ]
  },
  {
   "cell_type": "code",
   "execution_count": 65,
   "metadata": {
    "collapsed": false,
    "scrolled": true
   },
   "outputs": [
    {
     "data": {
      "image/png": "[encoded data removed]",
      "text/latex": [
       "$$2.5 \\left(- 1.2 \\sin^{2}{\\left (x \\right )} - 0.4\\right) \\left(- 0.6 \\sin^{2}{\\left (x \\right )} + 0.96\\right)^{\\frac{3}{2}} \\left(0.6 \\sin^{2}{\\left (x \\right )} + 0.2\\right) + 2 \\left(- 0.6 \\sin^{2}{\\left (x \\right )} + 0.96\\right)^{\\frac{5}{2}} \\left(0.6 \\sin^{2}{\\left (x \\right )} + 0.2\\right) - 6.0 \\left(- 0.6 \\sin^{2}{\\left (x \\right )} + 0.96\\right)^{\\frac{5}{2}} + 5.0 \\left(- 0.6 \\sin^{2}{\\left (x \\right )} + 0.96\\right)^{\\frac{3}{2}}$$"
      ],
      "text/plain": [
       "                                                         3/2                  \n",
       "    ⎛               2         ⎞ ⎛            2          ⎞    ⎛       2        \n",
       "2.5⋅⎝- -1.2⋅(-1)⋅sin (x) - 0.4⎠⋅⎝- - -0.6⋅sin (x) + 0.96⎠   ⋅⎝0.6⋅sin (x) + 0.\n",
       "\n",
       "                                5/2                                           \n",
       " ⎞     ⎛            2          ⎞    ⎛       2         ⎞             ⎛         \n",
       "2⎠ + 2⋅⎝- - -0.6⋅sin (x) + 0.96⎠   ⋅⎝0.6⋅sin (x) + 0.2⎠ - -6.0⋅(-1)⋅⎝- - -0.6⋅\n",
       "\n",
       "               5/2                                3/2\n",
       "   2          ⎞          ⎛            2          ⎞   \n",
       "sin (x) + 0.96⎠    + 5.0⋅⎝- - -0.6⋅sin (x) + 0.96⎠   "
      ]
     },
     "execution_count": 65,
     "metadata": {},
     "output_type": "execute_result"
    }
   ],
   "source": [
    "dpdr_diff.subs({\"n\":5,\"b\":0.3,\"r\":0.5})"
   ]
  },
  {
   "cell_type": "code",
   "execution_count": 66,
   "metadata": {
    "collapsed": false
   },
   "outputs": [
    {
     "data": {
      "image/png": "[encoded data removed]",
      "text/latex": [
       "$$1.6$$"
      ],
      "text/plain": [
       "1.6"
      ]
     },
     "execution_count": 66,
     "metadata": {},
     "output_type": "execute_result"
    }
   ],
   "source": [
    "(1-(0.3-0.5)**2)/(4*0.3*0.5)"
   ]
  },
  {
   "cell_type": "code",
   "execution_count": 73,
   "metadata": {
    "collapsed": false
   },
   "outputs": [
    {
     "data": {
      "image/png": "[encoded data removed]",
      "text/latex": [
       "$$1.0 \\left(- 1.2 \\sin^{2}{\\left (x \\right )} - 0.4\\right) \\left(0.6 \\sin^{2}{\\left (x \\right )} + 0.2\\right) + 2 \\left(- 0.6 \\sin^{2}{\\left (x \\right )} + 0.96\\right) \\left(0.6 \\sin^{2}{\\left (x \\right )} + 0.2\\right) + 1.8 \\sin^{2}{\\left (x \\right )} - 0.88$$"
      ],
      "text/plain": [
       "    ⎛               2         ⎞ ⎛       2         ⎞     ⎛            2        \n",
       "1.0⋅⎝- -1.2⋅(-1)⋅sin (x) - 0.4⎠⋅⎝0.6⋅sin (x) + 0.2⎠ + 2⋅⎝- - -0.6⋅sin (x) + 0.\n",
       "\n",
       "  ⎞ ⎛       2         ⎞          2          \n",
       "96⎠⋅⎝0.6⋅sin (x) + 0.2⎠ + 1.8⋅sin (x) - 0.88"
      ]
     },
     "execution_count": 73,
     "metadata": {},
     "output_type": "execute_result"
    }
   ],
   "source": [
    "dpdr_diff.subs({\"n\":2,\"b\":0.3,\"r\":0.5})"
   ]
  },
  {
   "cell_type": "code",
   "execution_count": 78,
   "metadata": {
    "collapsed": false
   },
   "outputs": [
    {
     "ename": "SyntaxError",
     "evalue": "invalid character in identifier (<ipython-input-78-c197d2072a74>, line 1)",
     "output_type": "error",
     "traceback": [
      "\u001b[0;36m  File \u001b[0;32m\"<ipython-input-78-c197d2072a74>\"\u001b[0;36m, line \u001b[0;32m1\u001b[0m\n\u001b[0;31m    quad(lambda x: (−1.2*sin(x)**2−0.4)*(0.6*sin(x)**2+0.2)+2*(−0.6*sin(x)**2+0.96)*(0.6*sin(x)**2+0.2)+1.8*sin(x)**2−0.88,[-pi/2,pi/2])\u001b[0m\n\u001b[0m                     ^\u001b[0m\n\u001b[0;31mSyntaxError\u001b[0m\u001b[0;31m:\u001b[0m invalid character in identifier\n"
     ]
    }
   ],
   "source": [
    "quad(lambda x: (−1.2*sin(x)**2−0.4)*(0.6*sin(x)**2+0.2)+2*(−0.6*sin(x)**2+0.96)*(0.6*sin(x)**2+0.2)+1.8*sin(x)**2−0.88,[-pi/2,pi/2])"
   ]
  },
  {
   "cell_type": "code",
   "execution_count": 79,
   "metadata": {
    "collapsed": false
   },
   "outputs": [
    {
     "ename": "TypeError",
     "evalue": "cannot create mpf from -pi/2",
     "output_type": "error",
     "traceback": [
      "\u001b[0;31m---------------------------------------------------------------------------\u001b[0m",
      "\u001b[0;31mTypeError\u001b[0m                                 Traceback (most recent call last)",
      "\u001b[0;32m<ipython-input-79-beb59781f4ff>\u001b[0m in \u001b[0;36m<module>\u001b[0;34m()\u001b[0m\n\u001b[0;32m----> 1\u001b[0;31m \u001b[0mquad\u001b[0m\u001b[0;34m(\u001b[0m\u001b[0;32mlambda\u001b[0m \u001b[0mx\u001b[0m\u001b[0;34m:\u001b[0m \u001b[0;34m(\u001b[0m\u001b[0;34m-\u001b[0m\u001b[0;36m1.2\u001b[0m\u001b[0;34m*\u001b[0m\u001b[0msin\u001b[0m\u001b[0;34m(\u001b[0m\u001b[0mx\u001b[0m\u001b[0;34m)\u001b[0m\u001b[0;34m**\u001b[0m\u001b[0;36m2\u001b[0m\u001b[0;34m-\u001b[0m\u001b[0;36m0.4\u001b[0m\u001b[0;34m)\u001b[0m\u001b[0;34m*\u001b[0m\u001b[0;34m(\u001b[0m\u001b[0;36m0.6\u001b[0m\u001b[0;34m*\u001b[0m\u001b[0msin\u001b[0m\u001b[0;34m(\u001b[0m\u001b[0mx\u001b[0m\u001b[0;34m)\u001b[0m\u001b[0;34m**\u001b[0m\u001b[0;36m2\u001b[0m\u001b[0;34m+\u001b[0m\u001b[0;36m0.2\u001b[0m\u001b[0;34m)\u001b[0m\u001b[0;34m+\u001b[0m\u001b[0;36m2\u001b[0m\u001b[0;34m*\u001b[0m\u001b[0;34m(\u001b[0m\u001b[0;34m-\u001b[0m\u001b[0;36m0.6\u001b[0m\u001b[0;34m*\u001b[0m\u001b[0msin\u001b[0m\u001b[0;34m(\u001b[0m\u001b[0mx\u001b[0m\u001b[0;34m)\u001b[0m\u001b[0;34m**\u001b[0m\u001b[0;36m2\u001b[0m\u001b[0;34m+\u001b[0m\u001b[0;36m0.96\u001b[0m\u001b[0;34m)\u001b[0m\u001b[0;34m*\u001b[0m\u001b[0;34m(\u001b[0m\u001b[0;36m0.6\u001b[0m\u001b[0;34m*\u001b[0m\u001b[0msin\u001b[0m\u001b[0;34m(\u001b[0m\u001b[0mx\u001b[0m\u001b[0;34m)\u001b[0m\u001b[0;34m**\u001b[0m\u001b[0;36m2\u001b[0m\u001b[0;34m+\u001b[0m\u001b[0;36m0.2\u001b[0m\u001b[0;34m)\u001b[0m\u001b[0;34m+\u001b[0m\u001b[0;36m1.8\u001b[0m\u001b[0;34m*\u001b[0m\u001b[0msin\u001b[0m\u001b[0;34m(\u001b[0m\u001b[0mx\u001b[0m\u001b[0;34m)\u001b[0m\u001b[0;34m**\u001b[0m\u001b[0;36m2\u001b[0m\u001b[0;34m-\u001b[0m\u001b[0;36m0.88\u001b[0m\u001b[0;34m,\u001b[0m\u001b[0;34m[\u001b[0m\u001b[0;34m-\u001b[0m\u001b[0mpi\u001b[0m\u001b[0;34m/\u001b[0m\u001b[0;36m2\u001b[0m\u001b[0;34m,\u001b[0m\u001b[0mpi\u001b[0m\u001b[0;34m/\u001b[0m\u001b[0;36m2\u001b[0m\u001b[0;34m]\u001b[0m\u001b[0;34m)\u001b[0m\u001b[0;34m\u001b[0m\u001b[0m\n\u001b[0m",
      "\u001b[0;32m/Users/ericagol/anaconda/lib/python3.5/site-packages/sympy/mpmath/calculus/quadrature.py\u001b[0m in \u001b[0;36mquad\u001b[0;34m(ctx, f, *points, **kwargs)\u001b[0m\n\u001b[1;32m    741\u001b[0m             \u001b[0mctx\u001b[0m\u001b[0;34m.\u001b[0m\u001b[0mprec\u001b[0m \u001b[0;34m+=\u001b[0m \u001b[0;36m20\u001b[0m\u001b[0;34m\u001b[0m\u001b[0m\n\u001b[1;32m    742\u001b[0m             \u001b[0;32mif\u001b[0m \u001b[0mdim\u001b[0m \u001b[0;34m==\u001b[0m \u001b[0;36m1\u001b[0m\u001b[0;34m:\u001b[0m\u001b[0;34m\u001b[0m\u001b[0m\n\u001b[0;32m--> 743\u001b[0;31m                 \u001b[0mv\u001b[0m\u001b[0;34m,\u001b[0m \u001b[0merr\u001b[0m \u001b[0;34m=\u001b[0m \u001b[0mrule\u001b[0m\u001b[0;34m.\u001b[0m\u001b[0msummation\u001b[0m\u001b[0;34m(\u001b[0m\u001b[0mf\u001b[0m\u001b[0;34m,\u001b[0m \u001b[0mpoints\u001b[0m\u001b[0;34m[\u001b[0m\u001b[0;36m0\u001b[0m\u001b[0;34m]\u001b[0m\u001b[0;34m,\u001b[0m \u001b[0mprec\u001b[0m\u001b[0;34m,\u001b[0m \u001b[0mepsilon\u001b[0m\u001b[0;34m,\u001b[0m \u001b[0mm\u001b[0m\u001b[0;34m,\u001b[0m \u001b[0mverbose\u001b[0m\u001b[0;34m)\u001b[0m\u001b[0;34m\u001b[0m\u001b[0m\n\u001b[0m\u001b[1;32m    744\u001b[0m             \u001b[0;32melif\u001b[0m \u001b[0mdim\u001b[0m \u001b[0;34m==\u001b[0m \u001b[0;36m2\u001b[0m\u001b[0;34m:\u001b[0m\u001b[0;34m\u001b[0m\u001b[0m\n\u001b[1;32m    745\u001b[0m                 v, err = rule.summation(lambda x: \\\n",
      "\u001b[0;32m/Users/ericagol/anaconda/lib/python3.5/site-packages/sympy/mpmath/calculus/quadrature.py\u001b[0m in \u001b[0;36msummation\u001b[0;34m(self, f, points, prec, epsilon, max_degree, verbose)\u001b[0m\n\u001b[1;32m    226\u001b[0m             \u001b[0mresults\u001b[0m \u001b[0;34m=\u001b[0m \u001b[0;34m[\u001b[0m\u001b[0;34m]\u001b[0m\u001b[0;34m\u001b[0m\u001b[0m\n\u001b[1;32m    227\u001b[0m             \u001b[0;32mfor\u001b[0m \u001b[0mdegree\u001b[0m \u001b[0;32min\u001b[0m \u001b[0mxrange\u001b[0m\u001b[0;34m(\u001b[0m\u001b[0;36m1\u001b[0m\u001b[0;34m,\u001b[0m \u001b[0mmax_degree\u001b[0m\u001b[0;34m+\u001b[0m\u001b[0;36m1\u001b[0m\u001b[0;34m)\u001b[0m\u001b[0;34m:\u001b[0m\u001b[0;34m\u001b[0m\u001b[0m\n\u001b[0;32m--> 228\u001b[0;31m                 \u001b[0mnodes\u001b[0m \u001b[0;34m=\u001b[0m \u001b[0mself\u001b[0m\u001b[0;34m.\u001b[0m\u001b[0mget_nodes\u001b[0m\u001b[0;34m(\u001b[0m\u001b[0ma\u001b[0m\u001b[0;34m,\u001b[0m \u001b[0mb\u001b[0m\u001b[0;34m,\u001b[0m \u001b[0mdegree\u001b[0m\u001b[0;34m,\u001b[0m \u001b[0mprec\u001b[0m\u001b[0;34m,\u001b[0m \u001b[0mverbose\u001b[0m\u001b[0;34m)\u001b[0m\u001b[0;34m\u001b[0m\u001b[0m\n\u001b[0m\u001b[1;32m    229\u001b[0m                 \u001b[0;32mif\u001b[0m \u001b[0mverbose\u001b[0m\u001b[0;34m:\u001b[0m\u001b[0;34m\u001b[0m\u001b[0m\n\u001b[1;32m    230\u001b[0m                     print(\"Integrating from %s to %s (degree %s of %s)\" % \\\n",
      "\u001b[0;32m/Users/ericagol/anaconda/lib/python3.5/site-packages/sympy/mpmath/calculus/quadrature.py\u001b[0m in \u001b[0;36mget_nodes\u001b[0;34m(self, a, b, degree, prec, verbose)\u001b[0m\n\u001b[1;32m     65\u001b[0m                 \u001b[0mself\u001b[0m\u001b[0;34m.\u001b[0m\u001b[0mstandard_cache\u001b[0m\u001b[0;34m[\u001b[0m\u001b[0mdegree\u001b[0m\u001b[0;34m,\u001b[0m \u001b[0mprec\u001b[0m\u001b[0;34m]\u001b[0m \u001b[0;34m=\u001b[0m \u001b[0mnodes\u001b[0m\u001b[0;34m\u001b[0m\u001b[0m\n\u001b[1;32m     66\u001b[0m             \u001b[0;31m# Transform to general interval\u001b[0m\u001b[0;34m\u001b[0m\u001b[0;34m\u001b[0m\u001b[0m\n\u001b[0;32m---> 67\u001b[0;31m             \u001b[0mnodes\u001b[0m \u001b[0;34m=\u001b[0m \u001b[0mself\u001b[0m\u001b[0;34m.\u001b[0m\u001b[0mtransform_nodes\u001b[0m\u001b[0;34m(\u001b[0m\u001b[0mnodes\u001b[0m\u001b[0;34m,\u001b[0m \u001b[0ma\u001b[0m\u001b[0;34m,\u001b[0m \u001b[0mb\u001b[0m\u001b[0;34m,\u001b[0m \u001b[0mverbose\u001b[0m\u001b[0;34m)\u001b[0m\u001b[0;34m\u001b[0m\u001b[0m\n\u001b[0m\u001b[1;32m     68\u001b[0m             \u001b[0;32mif\u001b[0m \u001b[0mkey\u001b[0m \u001b[0;32min\u001b[0m \u001b[0mself\u001b[0m\u001b[0;34m.\u001b[0m\u001b[0minterval_count\u001b[0m\u001b[0;34m:\u001b[0m\u001b[0;34m\u001b[0m\u001b[0m\n\u001b[1;32m     69\u001b[0m                 \u001b[0mself\u001b[0m\u001b[0;34m.\u001b[0m\u001b[0mtransformed_cache\u001b[0m\u001b[0;34m[\u001b[0m\u001b[0mkey\u001b[0m\u001b[0;34m]\u001b[0m \u001b[0;34m=\u001b[0m \u001b[0mnodes\u001b[0m\u001b[0;34m\u001b[0m\u001b[0m\n",
      "\u001b[0;32m/Users/ericagol/anaconda/lib/python3.5/site-packages/sympy/mpmath/calculus/quadrature.py\u001b[0m in \u001b[0;36mtransform_nodes\u001b[0;34m(self, nodes, a, b, verbose)\u001b[0m\n\u001b[1;32m     91\u001b[0m         \"\"\"\n\u001b[1;32m     92\u001b[0m         \u001b[0mctx\u001b[0m \u001b[0;34m=\u001b[0m \u001b[0mself\u001b[0m\u001b[0;34m.\u001b[0m\u001b[0mctx\u001b[0m\u001b[0;34m\u001b[0m\u001b[0m\n\u001b[0;32m---> 93\u001b[0;31m         \u001b[0ma\u001b[0m \u001b[0;34m=\u001b[0m \u001b[0mctx\u001b[0m\u001b[0;34m.\u001b[0m\u001b[0mconvert\u001b[0m\u001b[0;34m(\u001b[0m\u001b[0ma\u001b[0m\u001b[0;34m)\u001b[0m\u001b[0;34m\u001b[0m\u001b[0m\n\u001b[0m\u001b[1;32m     94\u001b[0m         \u001b[0mb\u001b[0m \u001b[0;34m=\u001b[0m \u001b[0mctx\u001b[0m\u001b[0;34m.\u001b[0m\u001b[0mconvert\u001b[0m\u001b[0;34m(\u001b[0m\u001b[0mb\u001b[0m\u001b[0;34m)\u001b[0m\u001b[0;34m\u001b[0m\u001b[0m\n\u001b[1;32m     95\u001b[0m         \u001b[0mone\u001b[0m \u001b[0;34m=\u001b[0m \u001b[0mctx\u001b[0m\u001b[0;34m.\u001b[0m\u001b[0mone\u001b[0m\u001b[0;34m\u001b[0m\u001b[0m\n",
      "\u001b[0;32m/Users/ericagol/anaconda/lib/python3.5/site-packages/sympy/mpmath/ctx_mp_python.py\u001b[0m in \u001b[0;36mconvert\u001b[0;34m(ctx, x, strings)\u001b[0m\n\u001b[1;32m    660\u001b[0m         \u001b[0;32mif\u001b[0m \u001b[0mhasattr\u001b[0m\u001b[0;34m(\u001b[0m\u001b[0mx\u001b[0m\u001b[0;34m,\u001b[0m \u001b[0;34m'_mpmath_'\u001b[0m\u001b[0;34m)\u001b[0m\u001b[0;34m:\u001b[0m\u001b[0;34m\u001b[0m\u001b[0m\n\u001b[1;32m    661\u001b[0m             \u001b[0;32mreturn\u001b[0m \u001b[0mctx\u001b[0m\u001b[0;34m.\u001b[0m\u001b[0mconvert\u001b[0m\u001b[0;34m(\u001b[0m\u001b[0mx\u001b[0m\u001b[0;34m.\u001b[0m\u001b[0m_mpmath_\u001b[0m\u001b[0;34m(\u001b[0m\u001b[0mprec\u001b[0m\u001b[0;34m,\u001b[0m \u001b[0mrounding\u001b[0m\u001b[0;34m)\u001b[0m\u001b[0;34m)\u001b[0m\u001b[0;34m\u001b[0m\u001b[0m\n\u001b[0;32m--> 662\u001b[0;31m         \u001b[0;32mreturn\u001b[0m \u001b[0mctx\u001b[0m\u001b[0;34m.\u001b[0m\u001b[0m_convert_fallback\u001b[0m\u001b[0;34m(\u001b[0m\u001b[0mx\u001b[0m\u001b[0;34m,\u001b[0m \u001b[0mstrings\u001b[0m\u001b[0;34m)\u001b[0m\u001b[0;34m\u001b[0m\u001b[0m\n\u001b[0m\u001b[1;32m    663\u001b[0m \u001b[0;34m\u001b[0m\u001b[0m\n\u001b[1;32m    664\u001b[0m     \u001b[0;32mdef\u001b[0m \u001b[0misnan\u001b[0m\u001b[0;34m(\u001b[0m\u001b[0mctx\u001b[0m\u001b[0;34m,\u001b[0m \u001b[0mx\u001b[0m\u001b[0;34m)\u001b[0m\u001b[0;34m:\u001b[0m\u001b[0;34m\u001b[0m\u001b[0m\n",
      "\u001b[0;32m/Users/ericagol/anaconda/lib/python3.5/site-packages/sympy/mpmath/ctx_mp.py\u001b[0m in \u001b[0;36m_convert_fallback\u001b[0;34m(ctx, x, strings)\u001b[0m\n\u001b[1;32m    612\u001b[0m             \u001b[0;32melse\u001b[0m\u001b[0;34m:\u001b[0m\u001b[0;34m\u001b[0m\u001b[0m\n\u001b[1;32m    613\u001b[0m                 \u001b[0;32mraise\u001b[0m \u001b[0mValueError\u001b[0m\u001b[0;34m(\u001b[0m\u001b[0;34m\"can only create mpf from zero-width interval\"\u001b[0m\u001b[0;34m)\u001b[0m\u001b[0;34m\u001b[0m\u001b[0m\n\u001b[0;32m--> 614\u001b[0;31m         \u001b[0;32mraise\u001b[0m \u001b[0mTypeError\u001b[0m\u001b[0;34m(\u001b[0m\u001b[0;34m\"cannot create mpf from \"\u001b[0m \u001b[0;34m+\u001b[0m \u001b[0mrepr\u001b[0m\u001b[0;34m(\u001b[0m\u001b[0mx\u001b[0m\u001b[0;34m)\u001b[0m\u001b[0;34m)\u001b[0m\u001b[0;34m\u001b[0m\u001b[0m\n\u001b[0m\u001b[1;32m    615\u001b[0m \u001b[0;34m\u001b[0m\u001b[0m\n\u001b[1;32m    616\u001b[0m     \u001b[0;32mdef\u001b[0m \u001b[0mmpmathify\u001b[0m\u001b[0;34m(\u001b[0m\u001b[0mctx\u001b[0m\u001b[0;34m,\u001b[0m \u001b[0;34m*\u001b[0m\u001b[0margs\u001b[0m\u001b[0;34m,\u001b[0m \u001b[0;34m**\u001b[0m\u001b[0mkwargs\u001b[0m\u001b[0;34m)\u001b[0m\u001b[0;34m:\u001b[0m\u001b[0;34m\u001b[0m\u001b[0m\n",
      "\u001b[0;31mTypeError\u001b[0m: cannot create mpf from -pi/2"
     ]
    }
   ],
   "source": [
    "quad(lambda x: (-1.2*sin(x)**2-0.4)*(0.6*sin(x)**2+0.2)+2*(-0.6*sin(x)**2+0.96)*(0.6*sin(x)**2+0.2)+1.8*sin(x)**2-0.88,[-pi/2,pi/2])"
   ]
  },
  {
   "cell_type": "code",
   "execution_count": 80,
   "metadata": {
    "collapsed": false
   },
   "outputs": [
    {
     "data": {
      "image/png": "[encoded data removed]",
      "text/latex": [
       "$$\\frac{n r \\left(- 4 b r \\sin^{2}{\\left (x \\right )} - \\left(- b + r\\right)^{2} + 1\\right)^{\\frac{n}{2}}}{- 4 b r \\sin^{2}{\\left (x \\right )} - \\left(- b + r\\right)^{2} + 1} \\left(- 4 b \\sin^{2}{\\left (x \\right )} + 2 b - 2 r\\right) \\left(2 b \\sin^{2}{\\left (x \\right )} - b + r\\right) - 2 r \\left(- n \\left(- 4 b r \\sin^{2}{\\left (x \\right )} - \\left(- b + r\\right)^{2} + 1\\right)^{\\frac{n}{2} - 1} + \\left(n + 2\\right) \\left(- 4 b r \\sin^{2}{\\left (x \\right )} - \\left(- b + r\\right)^{2} + 1\\right)^{\\frac{n}{2}}\\right) + 2 r \\left(- 4 b r \\sin^{2}{\\left (x \\right )} - \\left(- b + r\\right)^{2} + 1\\right)^{\\frac{n}{2}} + 2 \\left(2 b \\sin^{2}{\\left (x \\right )} - b + r\\right) \\left(- 4 b r \\sin^{2}{\\left (x \\right )} - \\left(- b + r\\right)^{2} + 1\\right)^{\\frac{n}{2}}$$"
      ],
      "text/plain": [
       "                                                                              \n",
       "                                                                              \n",
       "                                                                              \n",
       "    ⎛         2               ⎞ ⎛       2           ⎞ ⎛           2           \n",
       "n⋅r⋅⎝- 4⋅b⋅sin (x) + 2⋅b - 2⋅r⎠⋅⎝2⋅b⋅sin (x) - b + r⎠⋅⎝- 4⋅b⋅r⋅sin (x) - (-b +\n",
       "──────────────────────────────────────────────────────────────────────────────\n",
       "                                       2              2                       \n",
       "                            - 4⋅b⋅r⋅sin (x) - (-b + r)  + 1                   \n",
       "\n",
       "         n                                                                    \n",
       "         ─       ⎛                                     n                      \n",
       "         2       ⎜                                     ─ - 1                  \n",
       "   2    ⎞        ⎜                                     2                      \n",
       " r)  + 1⎠        ⎜    ⎛           2              2    ⎞                ⎛      \n",
       "────────── - 2⋅r⋅⎝- n⋅⎝- 4⋅b⋅r⋅sin (x) - (-b + r)  + 1⎠      + (n + 2)⋅⎝- 4⋅b⋅\n",
       "                                                                              \n",
       "                                                                              \n",
       "\n",
       "                                                                              \n",
       "                          n⎞                                        n         \n",
       "                          ─⎟                                        ─         \n",
       "                          2⎟                                        2         \n",
       "     2              2    ⎞ ⎟       ⎛           2              2    ⎞      ⎛   \n",
       "r⋅sin (x) - (-b + r)  + 1⎠ ⎠ + 2⋅r⋅⎝- 4⋅b⋅r⋅sin (x) - (-b + r)  + 1⎠  + 2⋅⎝2⋅b\n",
       "                                                                              \n",
       "                                                                              \n",
       "\n",
       "                                                    \n",
       "                                                   n\n",
       "                                                   ─\n",
       "                                                   2\n",
       "    2           ⎞ ⎛           2              2    ⎞ \n",
       "⋅sin (x) - b + r⎠⋅⎝- 4⋅b⋅r⋅sin (x) - (-b + r)  + 1⎠ \n",
       "                                                    \n",
       "                                                    "
      ]
     },
     "execution_count": 80,
     "metadata": {},
     "output_type": "execute_result"
    }
   ],
   "source": [
    "dpdr_diff"
   ]
  },
  {
   "cell_type": "code",
   "execution_count": 81,
   "metadata": {
    "collapsed": false
   },
   "outputs": [
    {
     "data": {
      "image/png": "[encoded data removed]",
      "text/latex": [
       "$$- 2 b \\left(- b^{2} - 4 b r \\sin^{2}{\\left (x \\right )} + 2 b r - r^{2} + 1\\right)^{\\frac{n}{2} - 1} \\left(2 b^{2} \\sin^{2}{\\left (x \\right )} - b^{2} + 4 b n r \\sin^{4}{\\left (x \\right )} - 4 b n r \\sin^{2}{\\left (x \\right )} + 8 b r \\sin^{4}{\\left (x \\right )} - 8 b r \\sin^{2}{\\left (x \\right )} + 2 b r + 2 r^{2} \\sin^{2}{\\left (x \\right )} - r^{2} - 2 \\sin^{2}{\\left (x \\right )} + 1\\right)$$"
      ],
      "text/plain": [
       "                                            n                                 \n",
       "                                            ─ - 1                             \n",
       "                                            2                                 \n",
       "     ⎛   2            2               2    ⎞      ⎛   2    2       2          \n",
       "-2⋅b⋅⎝- b  - 4⋅b⋅r⋅sin (x) + 2⋅b⋅r - r  + 1⎠     ⋅⎝2⋅b ⋅sin (x) - b  + 4⋅b⋅n⋅r\n",
       "\n",
       "                                                                              \n",
       "                                                                              \n",
       "                                                                              \n",
       "    4                 2               4               2                 2    2\n",
       "⋅sin (x) - 4⋅b⋅n⋅r⋅sin (x) + 8⋅b⋅r⋅sin (x) - 8⋅b⋅r⋅sin (x) + 2⋅b⋅r + 2⋅r ⋅sin \n",
       "\n",
       "                         \n",
       "                         \n",
       "                         \n",
       "       2        2       ⎞\n",
       "(x) - r  - 2⋅sin (x) + 1⎠"
      ]
     },
     "execution_count": 81,
     "metadata": {},
     "output_type": "execute_result"
    }
   ],
   "source": [
    "simplify(dpdr_diff)"
   ]
  },
  {
   "cell_type": "code",
   "execution_count": null,
   "metadata": {
    "collapsed": true
   },
   "outputs": [],
   "source": []
  }
 ],
 "metadata": {
  "kernelspec": {
   "display_name": "Python 3",
   "language": "python",
   "name": "python3"
  },
  "language_info": {
   "codemirror_mode": {
    "name": "ipython",
    "version": 3
   },
   "file_extension": ".py",
   "mimetype": "text/x-python",
   "name": "python",
   "nbconvert_exporter": "python",
   "pygments_lexer": "ipython3",
   "version": "3.5.2"
  }
 },
 "nbformat": 4,
 "nbformat_minor": 2
}
