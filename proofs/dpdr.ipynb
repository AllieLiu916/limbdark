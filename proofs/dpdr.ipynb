{
 "cells": [
  {
   "cell_type": "markdown",
   "metadata": {},
   "source": [
    "# Derivative of P(G_n) with respect to r:"
   ]
  },
  {
   "cell_type": "markdown",
   "metadata": {},
   "source": [
    "The derivative of the integrand of P(G_n) with respect to r\n",
    "compared with the analytic formula for the derivative:"
   ]
  },
  {
   "cell_type": "code",
   "execution_count": 20,
   "metadata": {
    "collapsed": false
   },
   "outputs": [
    {
     "name": "stdout",
     "output_type": "stream",
     "text": [
      "IPython console for SymPy 0.7.6.1 (Python 3.5.2-64-bit) (ground types: python)\n",
      "Using sympy version 0.7.6.1\n"
     ]
    }
   ],
   "source": [
    "import numpy as np\n",
    "import matplotlib.pyplot as pl\n",
    "%matplotlib notebook\n",
    "from IPython.display import display, Math\n",
    "import sympy\n",
    "from sympy import *\n",
    "\n",
    "# Initialize the session\n",
    "init_session(quiet=True)\n",
    "\n",
    "# Let's report what version of sympy this is\n",
    "print(\"Using sympy version\", sympy.__version__)"
   ]
  },
  {
   "cell_type": "markdown",
   "metadata": {},
   "source": [
    "Define integrand of P(G_n):"
   ]
  },
  {
   "cell_type": "code",
   "execution_count": 49,
   "metadata": {
    "collapsed": false
   },
   "outputs": [],
   "source": [
    "# Define derivative of the the integrand of P(G_n):\n",
    "pintegrand, dpdr, dpdb, dpdr2, dpdb2, dpdb_diff, dpdr_diff, r, b, k2, n, x, m_n, m_nm2 = symbols('pintegrand dpdr dpdb dpdr2 dpdb2 dpdb_diff dpdr_diff r b k2 n x m_n m_nm2')\n",
    "k2 = (1-(r-b)**2)/(4*b*r)\n",
    "pintegrand = 2*r*(1-(r-b)**2-4*b*r*sin(x)**2)**(n/2)*(r-b+2*b*sin(x)**2)\n",
    "dpdr = diff(pintegrand,r)\n",
    "dpdb = diff(pintegrand,b)"
   ]
  },
  {
   "cell_type": "markdown",
   "metadata": {},
   "source": [
    "Simplify the result:"
   ]
  },
  {
   "cell_type": "code",
   "execution_count": 50,
   "metadata": {
    "collapsed": false
   },
   "outputs": [
    {
     "data": {
      "image/png": "[encoded data removed]",
      "text/latex": [
       "$$- 2 \\left(n r \\left(- 2 b \\cos^{2}{\\left (x \\right )} + b + r\\right)^{2} + \\left(- 2 b \\cos^{2}{\\left (x \\right )} + b + 2 r\\right) \\left(4 b r \\sin^{2}{\\left (x \\right )} + \\left(b - r\\right)^{2} - 1\\right)\\right) \\left(- 4 b r \\sin^{2}{\\left (x \\right )} - \\left(b - r\\right)^{2} + 1\\right)^{\\frac{n}{2} - 1}$$"
      ],
      "text/plain": [
       "                                                                              \n",
       "                                                                              \n",
       "   ⎛                           2                                              \n",
       "   ⎜    ⎛         2           ⎞    ⎛         2             ⎞ ⎛         2      \n",
       "-2⋅⎝n⋅r⋅⎝- 2⋅b⋅cos (x) + b + r⎠  + ⎝- 2⋅b⋅cos (x) + b + 2⋅r⎠⋅⎝4⋅b⋅r⋅sin (x) + \n",
       "\n",
       "                                               n    \n",
       "                                               ─ - 1\n",
       "             ⎞                                 2    \n",
       "       2    ⎞⎟ ⎛           2             2    ⎞     \n",
       "(b - r)  - 1⎠⎠⋅⎝- 4⋅b⋅r⋅sin (x) - (b - r)  + 1⎠     "
      ]
     },
     "execution_count": 50,
     "metadata": {},
     "output_type": "execute_result"
    }
   ],
   "source": [
    "simplify(dpdr)"
   ]
  },
  {
   "cell_type": "markdown",
   "metadata": {},
   "source": [
    "Now compute the right hand side:"
   ]
  },
  {
   "cell_type": "code",
   "execution_count": 51,
   "metadata": {
    "collapsed": false
   },
   "outputs": [],
   "source": [
    "m_n = (1-(r-b)**2-4*b*r*sin(x)**2)**(n/2)\n",
    "m_nm2 = (1-(r-b)**2-4*b*r*sin(x)**2)**((n-2)/2)\n",
    "dpdr2 = 2*r*((n+2)*m_n-n*m_nm2)\n",
    "dpdb2 = n/b*((r**2+b**2)*(m_n-m_nm2)+(r**2-b**2)**2*m_nm2)"
   ]
  },
  {
   "cell_type": "markdown",
   "metadata": {},
   "source": [
    "Next, show that these are equal:"
   ]
  },
  {
   "cell_type": "code",
   "execution_count": 52,
   "metadata": {
    "collapsed": false
   },
   "outputs": [],
   "source": [
    "dpdr_diff = dpdr-dpdr2\n",
    "dpdb_diff = dpdb-dpdb2"
   ]
  },
  {
   "cell_type": "markdown",
   "metadata": {},
   "source": [
    "Simplify this expression:"
   ]
  },
  {
   "cell_type": "code",
   "execution_count": 53,
   "metadata": {
    "collapsed": false
   },
   "outputs": [
    {
     "data": {
      "image/png": "[encoded data removed]",
      "text/latex": [
       "$$- 2 r \\left(- b^{2} - 4 b r \\sin^{2}{\\left (x \\right )} + 2 b r - r^{2} + 1\\right)^{\\frac{n}{2} - 1} \\left(2 b^{2} \\sin^{2}{\\left (x \\right )} - b^{2} + 4 b n r \\sin^{4}{\\left (x \\right )} - 4 b n r \\sin^{2}{\\left (x \\right )} + 8 b r \\sin^{4}{\\left (x \\right )} - 8 b r \\sin^{2}{\\left (x \\right )} + 2 b r + 2 r^{2} \\sin^{2}{\\left (x \\right )} - r^{2} - 2 \\sin^{2}{\\left (x \\right )} + 1\\right)$$"
      ],
      "text/plain": [
       "                                            n                                 \n",
       "                                            ─ - 1                             \n",
       "                                            2                                 \n",
       "     ⎛   2            2               2    ⎞      ⎛   2    2       2          \n",
       "-2⋅r⋅⎝- b  - 4⋅b⋅r⋅sin (x) + 2⋅b⋅r - r  + 1⎠     ⋅⎝2⋅b ⋅sin (x) - b  + 4⋅b⋅n⋅r\n",
       "\n",
       "                                                                              \n",
       "                                                                              \n",
       "                                                                              \n",
       "    4                 2               4               2                 2    2\n",
       "⋅sin (x) - 4⋅b⋅n⋅r⋅sin (x) + 8⋅b⋅r⋅sin (x) - 8⋅b⋅r⋅sin (x) + 2⋅b⋅r + 2⋅r ⋅sin \n",
       "\n",
       "                         \n",
       "                         \n",
       "                         \n",
       "       2        2       ⎞\n",
       "(x) - r  - 2⋅sin (x) + 1⎠"
      ]
     },
     "execution_count": 53,
     "metadata": {},
     "output_type": "execute_result"
    }
   ],
   "source": [
    "simplify(dpdb_diff)"
   ]
  },
  {
   "cell_type": "markdown",
   "metadata": {},
   "source": [
    "That's it for now!"
   ]
  },
  {
   "cell_type": "code",
   "execution_count": 54,
   "metadata": {
    "collapsed": false
   },
   "outputs": [
    {
     "data": {
      "image/png": "[encoded data removed]",
      "text/latex": [
       "$$- 2 b \\left(- b^{2} - 4 b r \\sin^{2}{\\left (x \\right )} + 2 b r - r^{2} + 1\\right)^{\\frac{n}{2} - 1} \\left(2 b^{2} \\sin^{2}{\\left (x \\right )} - b^{2} + 4 b n r \\sin^{4}{\\left (x \\right )} - 4 b n r \\sin^{2}{\\left (x \\right )} + 8 b r \\sin^{4}{\\left (x \\right )} - 8 b r \\sin^{2}{\\left (x \\right )} + 2 b r + 2 r^{2} \\sin^{2}{\\left (x \\right )} - r^{2} - 2 \\sin^{2}{\\left (x \\right )} + 1\\right)$$"
      ],
      "text/plain": [
       "                                            n                                 \n",
       "                                            ─ - 1                             \n",
       "                                            2                                 \n",
       "     ⎛   2            2               2    ⎞      ⎛   2    2       2          \n",
       "-2⋅b⋅⎝- b  - 4⋅b⋅r⋅sin (x) + 2⋅b⋅r - r  + 1⎠     ⋅⎝2⋅b ⋅sin (x) - b  + 4⋅b⋅n⋅r\n",
       "\n",
       "                                                                              \n",
       "                                                                              \n",
       "                                                                              \n",
       "    4                 2               4               2                 2    2\n",
       "⋅sin (x) - 4⋅b⋅n⋅r⋅sin (x) + 8⋅b⋅r⋅sin (x) - 8⋅b⋅r⋅sin (x) + 2⋅b⋅r + 2⋅r ⋅sin \n",
       "\n",
       "                         \n",
       "                         \n",
       "                         \n",
       "       2        2       ⎞\n",
       "(x) - r  - 2⋅sin (x) + 1⎠"
      ]
     },
     "execution_count": 54,
     "metadata": {},
     "output_type": "execute_result"
    }
   ],
   "source": [
    "simplify(dpdr_diff)"
   ]
  },
  {
   "cell_type": "code",
   "execution_count": 55,
   "metadata": {
    "collapsed": false
   },
   "outputs": [
    {
     "data": {
      "image/png": "[encoded data removed]",
      "text/latex": [
       "$$\\frac{n r \\left(- 4 b r \\sin^{2}{\\left (x \\right )} - \\left(- b + r\\right)^{2} + 1\\right)^{\\frac{n}{2}}}{- 4 b r \\sin^{2}{\\left (x \\right )} - \\left(- b + r\\right)^{2} + 1} \\left(- 4 b \\sin^{2}{\\left (x \\right )} + 2 b - 2 r\\right) \\left(2 b \\sin^{2}{\\left (x \\right )} - b + r\\right) + 2 r \\left(- 4 b r \\sin^{2}{\\left (x \\right )} - \\left(- b + r\\right)^{2} + 1\\right)^{\\frac{n}{2}} + 2 \\left(2 b \\sin^{2}{\\left (x \\right )} - b + r\\right) \\left(- 4 b r \\sin^{2}{\\left (x \\right )} - \\left(- b + r\\right)^{2} + 1\\right)^{\\frac{n}{2}}$$"
      ],
      "text/plain": [
       "                                                                              \n",
       "                                                                              \n",
       "                                                                              \n",
       "    ⎛         2               ⎞ ⎛       2           ⎞ ⎛           2           \n",
       "n⋅r⋅⎝- 4⋅b⋅sin (x) + 2⋅b - 2⋅r⎠⋅⎝2⋅b⋅sin (x) - b + r⎠⋅⎝- 4⋅b⋅r⋅sin (x) - (-b +\n",
       "──────────────────────────────────────────────────────────────────────────────\n",
       "                                       2              2                       \n",
       "                            - 4⋅b⋅r⋅sin (x) - (-b + r)  + 1                   \n",
       "\n",
       "         n                                                                    \n",
       "         ─                                        n                           \n",
       "         2                                        ─                           \n",
       "   2    ⎞                                         2                           \n",
       " r)  + 1⎠        ⎛           2              2    ⎞      ⎛       2           ⎞ \n",
       "────────── + 2⋅r⋅⎝- 4⋅b⋅r⋅sin (x) - (-b + r)  + 1⎠  + 2⋅⎝2⋅b⋅sin (x) - b + r⎠⋅\n",
       "                                                                              \n",
       "                                                                              \n",
       "\n",
       "                                  \n",
       "                                 n\n",
       "                                 ─\n",
       "                                 2\n",
       "⎛           2              2    ⎞ \n",
       "⎝- 4⋅b⋅r⋅sin (x) - (-b + r)  + 1⎠ \n",
       "                                  \n",
       "                                  "
      ]
     },
     "execution_count": 55,
     "metadata": {},
     "output_type": "execute_result"
    }
   ],
   "source": [
    "dpdr"
   ]
  },
  {
   "cell_type": "code",
   "execution_count": 56,
   "metadata": {
    "collapsed": false
   },
   "outputs": [
    {
     "data": {
      "image/png": "[encoded data removed]",
      "text/latex": [
       "$$2 r \\left(- n \\left(- 4 b r \\sin^{2}{\\left (x \\right )} - \\left(- b + r\\right)^{2} + 1\\right)^{\\frac{n}{2} - 1} + \\left(n + 2\\right) \\left(- 4 b r \\sin^{2}{\\left (x \\right )} - \\left(- b + r\\right)^{2} + 1\\right)^{\\frac{n}{2}}\\right)$$"
      ],
      "text/plain": [
       "    ⎛                                     n                                   \n",
       "    ⎜                                     ─ - 1                               \n",
       "    ⎜                                     2                                   \n",
       "    ⎜    ⎛           2              2    ⎞                ⎛           2       \n",
       "2⋅r⋅⎝- n⋅⎝- 4⋅b⋅r⋅sin (x) - (-b + r)  + 1⎠      + (n + 2)⋅⎝- 4⋅b⋅r⋅sin (x) - (\n",
       "\n",
       "             n⎞\n",
       "             ─⎟\n",
       "             2⎟\n",
       "       2    ⎞ ⎟\n",
       "-b + r)  + 1⎠ ⎠"
      ]
     },
     "execution_count": 56,
     "metadata": {},
     "output_type": "execute_result"
    }
   ],
   "source": [
    "dpdr2"
   ]
  },
  {
   "cell_type": "code",
   "execution_count": null,
   "metadata": {
    "collapsed": true
   },
   "outputs": [],
   "source": []
  }
 ],
 "metadata": {
  "kernelspec": {
   "display_name": "Python 3",
   "language": "python",
   "name": "python3"
  },
  "language_info": {
   "codemirror_mode": {
    "name": "ipython",
    "version": 3
   },
   "file_extension": ".py",
   "mimetype": "text/x-python",
   "name": "python",
   "nbconvert_exporter": "python",
   "pygments_lexer": "ipython3",
   "version": "3.5.2"
  }
 },
 "nbformat": 4,
 "nbformat_minor": 2
}
