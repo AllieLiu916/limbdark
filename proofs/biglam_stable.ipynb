{
 "cells": [
  {
   "cell_type": "markdown",
   "metadata": {},
   "source": [
    "# The reparametrized Mandel & Agol (2002) $\\Lambda$ function\n",
    "\n",
    "#### Validation of the stable version of the $\\Lambda$ function for linearly limb-darkened transits"
   ]
  },
  {
   "cell_type": "markdown",
   "metadata": {},
   "source": [
    "Let's import some stuff and define the numerical integral of a linearly limb-darkened source. We use scipy's `dblquad` function to compute the integral of $\\sqrt{1 - x^2 - y^2}$ over the unocculted region of the source."
   ]
  },
  {
   "cell_type": "code",
   "execution_count": 1,
   "metadata": {},
   "outputs": [],
   "source": [
    "import numpy as np\n",
    "from mpmath import ellipe, ellipk, ellippi\n",
    "import matplotlib.pyplot as pl\n",
    "from scipy.integrate import dblquad, quad\n",
    "import warnings\n",
    "warnings.filterwarnings(\"ignore\")\n",
    "%matplotlib inline\n",
    "\n",
    "def NumericalFlux(b, r):\n",
    "    \"\"\"Compute the flux by numerical integration of the surface integral.\"\"\"\n",
    "    # I'm only coding up a specific case here\n",
    "    b = np.abs(b)\n",
    "    if b >= 1 + r:\n",
    "        return 2 * np.pi / 3\n",
    "    elif b <= r - 1:\n",
    "        return 0\n",
    "\n",
    "    # Total flux\n",
    "    total = (np.pi / 6) * (6 - 2)\n",
    "    if b >= 1 + r:\n",
    "        return total\n",
    "\n",
    "    # Get points of intersection\n",
    "    if b > 1 - r:\n",
    "        yi = (1. + b ** 2 - r ** 2) / (2. * b)\n",
    "        xi = (1. / (2. * b)) * np.sqrt(4 * b ** 2 - (1 + b ** 2 - r ** 2) ** 2)\n",
    "    else:\n",
    "        yi = np.inf\n",
    "        xi = r\n",
    "\n",
    "    # Specific intensity map\n",
    "    def I(y, x):\n",
    "        return np.sqrt(1 - x ** 2 - y ** 2)\n",
    "\n",
    "    # Lower integration limit\n",
    "    def y1(x):\n",
    "        if yi <= b:\n",
    "            # Lower occultor boundary\n",
    "            return b - np.sqrt(r ** 2 - x ** 2)\n",
    "        elif b <= 1 - r:\n",
    "            # Lower occultor boundary\n",
    "            return b - np.sqrt(r ** 2 - x ** 2)\n",
    "        else:\n",
    "            # Tricky: we need to do this in two parts\n",
    "            return b - np.sqrt(r ** 2 - x ** 2)\n",
    "\n",
    "    # Upper integration limit\n",
    "    def y2(x):\n",
    "        if yi <= b:\n",
    "            # Upper occulted boundary\n",
    "            return np.sqrt(1 - x ** 2)\n",
    "        elif b <= 1 - r:\n",
    "            # Upper occultor boundary\n",
    "            return b + np.sqrt(r ** 2 - x ** 2)\n",
    "        else:\n",
    "            # Tricky: we need to do this in two parts\n",
    "            return np.sqrt(1 - x ** 2)\n",
    "\n",
    "    # Compute the total flux\n",
    "    flux, _ = dblquad(I, -xi, xi, y1, y2, epsabs=1e-14, epsrel=1e-14)\n",
    "\n",
    "    # Do we need to solve an additional integral?\n",
    "    if not (yi <= b) and not (b <= 1 - r):\n",
    "\n",
    "        def y1(x):\n",
    "            return b - np.sqrt(r ** 2 - x ** 2)\n",
    "\n",
    "        def y2(x):\n",
    "            return b + np.sqrt(r ** 2 - x ** 2)\n",
    "\n",
    "        additional_flux, _ = dblquad(I, -r, -xi, y1, y2,\n",
    "                                     epsabs=1e-14, epsrel=1e-14)\n",
    "\n",
    "        flux += 2 * additional_flux\n",
    "\n",
    "    return total - flux"
   ]
  },
  {
   "cell_type": "markdown",
   "metadata": {},
   "source": [
    "Now we define the analytic functions in the paper. We're computing the elliptic integral `cel` the slow way: by direct integration. In `starry` and `limbdark`, we employ the fast technique from Bulirsch (1969) to do this."
   ]
  },
  {
   "cell_type": "code",
   "execution_count": 2,
   "metadata": {},
   "outputs": [],
   "source": [
    "def cel(kc, p, a, b):\n",
    "    \"\"\"The Bulirsch `cel` elliptic integral\"\"\"\n",
    "    def integrand(phi):\n",
    "        cos2 = np.cos(phi) ** 2\n",
    "        sin2 = 1 - cos2\n",
    "        return (a * cos2 + b * sin2) / ((cos2 + p * sin2) * np.sqrt(cos2 + kc ** 2 * sin2))\n",
    "    res, _ = quad(integrand, 0, np.pi / 2, epsabs=1e-14, epsrel=1e-14)\n",
    "    return res\n",
    "\n",
    "def S1(b, r):\n",
    "    \"\"\"The flux during the occultation.\"\"\"\n",
    "    b = np.abs(b)\n",
    "    if b >= 1 + r:\n",
    "        return 2 * np.pi / 3\n",
    "    elif b <= r - 1:\n",
    "        return 0\n",
    "    return 2 * np.pi / 3 * (1 - 3 * Lambda(b, r) / 2 - int(r > b))\n",
    "\n",
    "\n",
    "def Lambda(b, r):\n",
    "    \"\"\"The reparametrized Mandel & Agol (2002) Lambda function.\"\"\"\n",
    "    ksq = (1 - r ** 2 - b ** 2 + 2 * b * r) / (4 * b * r)\n",
    "    if ksq < 1:\n",
    "        mk = ksq\n",
    "        kc = np.sqrt(1 - mk)\n",
    "    else:\n",
    "        mk = 1 / ksq\n",
    "        kc = np.sqrt(1 - mk)\n",
    "        \n",
    "    if (r == 0):\n",
    "        return 0\n",
    "    elif np.abs(r - b) >= 1:\n",
    "        return 0\n",
    "    elif b == 0:\n",
    "        return -2. / 3. * (1 - r ** 2) ** 1.5\n",
    "    elif b == r and r == 0.5:\n",
    "        return 1. / 3. - 4. / (9 * np.pi)\n",
    "    elif b == r and r < 0.5:\n",
    "        return 1. / 3. + 2. / (9 * np.pi) * cel(kc, 1, mk - 3, (1 - mk) * (2 * mk - 3))\n",
    "    elif b == r and r > 0.5:\n",
    "        return 1. / 3. + 1. / (9 * np.pi * r) * cel(kc, 1, mk - 3, 1 - mk)\n",
    "    elif b + r == 1:\n",
    "        return 2 / (9 * np.pi) * (3 * np.arccos(1 - 2 * r) - 2 * (3 + 2 * r - 8 * r ** 2) * np.sqrt(r * b) - 3 * np.pi * int(r > 0.5))\n",
    "    elif ksq < 1:\n",
    "        f1 = (1 - (b - r) ** 2) / (9 * np.pi * np.sqrt(b * r))\n",
    "        f2 = ((b + r) ** 2 - 1) / (4 * b * r) * (b ** 2 - r ** 2)\n",
    "        f3 = 3 - 6 * r ** 2 - 2 * b * r\n",
    "        cel1 = cel(kc, (b - r) ** 2 * (1 - mk), 0, 3)\n",
    "        cel2 = cel(kc, 1, 1, 0)\n",
    "        E = float(ellipe(mk))\n",
    "        return f1 * (f2 * cel1 - f3 * cel2 - 4 * b * r * E)\n",
    "    else:\n",
    "        f1 = 2. * np.sqrt(1 - (b - r) ** 2) / (9 * np.pi)\n",
    "        f2 = 1 - (r + b) ** 2\n",
    "        f3 = 4 - 7 * r ** 2 - b ** 2\n",
    "        p = ((b - r) / (b + r)) ** 2 * (1 - (b + r) ** 2) / (1 - (b - r) ** 2)\n",
    "        q = 3 * (b - r) / ((b + r) * (1 - (b - r) ** 2))\n",
    "        cel1 = cel(kc, p, 1 + q, p + q)\n",
    "        E = float(ellipe(mk))\n",
    "        return f1 * (f2 * cel1 - f3 * E)"
   ]
  },
  {
   "cell_type": "markdown",
   "metadata": {},
   "source": [
    "## Let's compare the two expressions for a simple transit:"
   ]
  },
  {
   "cell_type": "code",
   "execution_count": 3,
   "metadata": {},
   "outputs": [],
   "source": [
    "r = 0.1\n",
    "b = np.linspace(-1.5, 1.5, 100)\n",
    "sol1 = np.array([NumericalFlux(b[i], r) for i in range(100)])\n",
    "sol2 = np.array([S1(b[i], r) for i in range(100)])"
   ]
  },
  {
   "cell_type": "code",
   "execution_count": 4,
   "metadata": {},
   "outputs": [
    {
     "data": {
      "image/png": "[encoded data removed]",
      "text/plain": [
       "<Figure size 720x720 with 2 Axes>"
      ]
     },
     "metadata": {},
     "output_type": "display_data"
    }
   ],
   "source": [
    "fig, ax = pl.subplots(2, figsize=(10, 10))\n",
    "ax[0].plot(b, sol1, lw=4, label='Numerical')\n",
    "ax[0].plot(b, sol2, label='Analytic')\n",
    "ax[1].plot(b, np.abs(sol1 - sol2))\n",
    "ax[1].set_yscale('log')\n",
    "ax[0].legend();\n",
    "ax[1].set_xlabel('Impact parameter', fontsize=18);\n",
    "ax[0].set_ylabel('Flux', fontsize=18);\n",
    "ax[1].set_ylabel('Error', fontsize=18);"
   ]
  },
  {
   "cell_type": "markdown",
   "metadata": {},
   "source": [
    "Note that the error is mostly due to the numerical integration!"
   ]
  },
  {
   "cell_type": "markdown",
   "metadata": {},
   "source": [
    "## Let's compare the expressions at the singular points:"
   ]
  },
  {
   "cell_type": "markdown",
   "metadata": {},
   "source": [
    "### r = 0"
   ]
  },
  {
   "cell_type": "code",
   "execution_count": 5,
   "metadata": {},
   "outputs": [
    {
     "name": "stdout",
     "output_type": "stream",
     "text": [
      "2.0943951023931953 2.0943951023931953\n"
     ]
    }
   ],
   "source": [
    "b = 0.2\n",
    "r = 0\n",
    "print(NumericalFlux(b, r), S1(b, r))"
   ]
  },
  {
   "cell_type": "markdown",
   "metadata": {},
   "source": [
    "### |r - b| $\\ge$ 1"
   ]
  },
  {
   "cell_type": "code",
   "execution_count": 6,
   "metadata": {},
   "outputs": [
    {
     "name": "stdout",
     "output_type": "stream",
     "text": [
      "0 0\n"
     ]
    }
   ],
   "source": [
    "b = 3.4\n",
    "r = 5.2\n",
    "print(NumericalFlux(b, r), S1(b, r))"
   ]
  },
  {
   "cell_type": "markdown",
   "metadata": {},
   "source": [
    "### b = 0"
   ]
  },
  {
   "cell_type": "code",
   "execution_count": 12,
   "metadata": {},
   "outputs": [
    {
     "name": "stdout",
     "output_type": "stream",
     "text": [
      "1.3603495231756622\n",
      "1.3603495231756633\n"
     ]
    }
   ],
   "source": [
    "b = 0\n",
    "r = 0.5\n",
    "print(NumericalFlux(b, r))\n",
    "print(S1(b, r))"
   ]
  },
  {
   "cell_type": "markdown",
   "metadata": {},
   "source": [
    "### b = r = $\\frac{1}{2}$ "
   ]
  },
  {
   "cell_type": "code",
   "execution_count": 13,
   "metadata": {},
   "outputs": [
    {
     "name": "stdout",
     "output_type": "stream",
     "text": [
      "1.4916419956410423\n",
      "1.4916419956410423\n"
     ]
    }
   ],
   "source": [
    "b = 0.5\n",
    "r = 0.5\n",
    "print(NumericalFlux(b, r))\n",
    "print(S1(b, r))"
   ]
  },
  {
   "cell_type": "markdown",
   "metadata": {},
   "source": [
    "### b = r < $\\frac{1}{2}$ "
   ]
  },
  {
   "cell_type": "code",
   "execution_count": 14,
   "metadata": {},
   "outputs": [
    {
     "name": "stdout",
     "output_type": "stream",
     "text": [
      "1.8318266845134275\n",
      "1.8318266845134277\n"
     ]
    }
   ],
   "source": [
    "b = 0.3\n",
    "r = 0.3\n",
    "print(NumericalFlux(b, r))\n",
    "print(S1(b, r))"
   ]
  },
  {
   "cell_type": "markdown",
   "metadata": {},
   "source": [
    "### b = r > $\\frac{1}{2}$ "
   ]
  },
  {
   "cell_type": "code",
   "execution_count": 21,
   "metadata": {},
   "outputs": [
    {
     "name": "stdout",
     "output_type": "stream",
     "text": [
      "1.3016816564752158\n",
      "1.268746981210184\n"
     ]
    }
   ],
   "source": [
    "b = 0.8\n",
    "r = 0.8\n",
    "print(NumericalFlux(b, r))\n",
    "print(S1(b, r))"
   ]
  },
  {
   "cell_type": "markdown",
   "metadata": {},
   "source": [
    "### b + r = 1"
   ]
  },
  {
   "cell_type": "code",
   "execution_count": 16,
   "metadata": {},
   "outputs": [
    {
     "name": "stdout",
     "output_type": "stream",
     "text": [
      "1.9736136707850893\n",
      "1.973613670785089\n"
     ]
    }
   ],
   "source": [
    "b = 0.75\n",
    "r = 0.25\n",
    "print(NumericalFlux(b, r))\n",
    "print(S1(b, r))"
   ]
  }
 ],
 "metadata": {
  "kernelspec": {
   "display_name": "Python 3",
   "language": "python",
   "name": "python3"
  },
  "language_info": {
   "codemirror_mode": {
    "name": "ipython",
    "version": 3
   },
   "file_extension": ".py",
   "mimetype": "text/x-python",
   "name": "python",
   "nbconvert_exporter": "python",
   "pygments_lexer": "ipython3",
   "version": "3.6.5"
  }
 },
 "nbformat": 4,
 "nbformat_minor": 2
}
