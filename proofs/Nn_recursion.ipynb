{
 "cells": [
  {
   "cell_type": "markdown",
   "metadata": {},
   "source": [
    "# Recursion relation for $N_n$"
   ]
  },
  {
   "cell_type": "markdown",
   "metadata": {},
   "source": [
    "In this notebook we'll validate the recursion relation for N_n:"
   ]
  },
  {
   "cell_type": "code",
   "execution_count": 1,
   "metadata": {},
   "outputs": [],
   "source": [
    "import numpy as np\n",
    "from scipy.integrate import quad\n",
    "import matplotlib.pyplot as pl\n",
    "%matplotlib notebook\n",
    "epsabs = 1e-12\n",
    "epsrel = 1e-12"
   ]
  },
  {
   "cell_type": "markdown",
   "metadata": {},
   "source": [
    "Here is the expression for the integrals M_n & N_n:"
   ]
  },
  {
   "cell_type": "code",
   "execution_count": 8,
   "metadata": {
    "collapsed": true
   },
   "outputs": [],
   "source": [
    "def M_n(r, b, n):\n",
    "    if (1 + r <= b):\n",
    "        return 0\n",
    "    elif abs(1 - r) < b and b <= 1 + r:\n",
    "        k2 = (1 - (b- r) ** 2) / (4*b*r)\n",
    "        kappa_half = np.arcsin(np.sqrt(k2))\n",
    "        func = lambda x: np.sqrt(k2-np.sin(x)**2)**n\n",
    "        res, err = quad(func,-kappa_half,kappa_half,epsabs=epsabs,epsrel=epsrel)\n",
    "        return np.sqrt(4*b*r)**n*res\n",
    "    elif b <= 1 - r:\n",
    "        k2 = (1 - (b- r) ** 2) / (4*b*r)\n",
    "        func = lambda x: np.sqrt(k2-np.sin(x)**2)**n\n",
    "        res, err = quad(func,-np.pi/2,np.pi/2,epsabs=epsabs,epsrel=epsrel)\n",
    "        return np.sqrt(4*b*r)**n*res\n",
    "    elif b <= r - 1:\n",
    "        return 0\n",
    "    else:\n",
    "        raise NotImplementedError(\"Missing case!\")"
   ]
  },
  {
   "cell_type": "code",
   "execution_count": 2,
   "metadata": {},
   "outputs": [],
   "source": [
    "def N_n(r, b, n):\n",
    "    if (1 + r <= b):\n",
    "        return 0\n",
    "    elif abs(1 - r) < b and b <= 1 + r:\n",
    "        k2 = (1 - (b- r) ** 2) / (4*b*r)\n",
    "        kappa_half = np.arcsin(np.sqrt(k2))\n",
    "        func = lambda x: np.sqrt(k2-np.sin(x)**2)**n*np.sin(x)**2\n",
    "        res, err = quad(func,-kappa_half,kappa_half,epsabs=epsabs,epsrel=epsrel)\n",
    "        return np.sqrt(4*b*r)**n*res\n",
    "    elif b <= 1 - r:\n",
    "        k2 = (1 - (b- r) ** 2) / (4*b*r)\n",
    "        func = lambda x: np.sqrt(k2-np.sin(x)**2)**n*np.sin(x)**2\n",
    "        res, err = quad(func,-np.pi/2,np.pi/2,epsabs=epsabs,epsrel=epsrel)\n",
    "        return np.sqrt(4*b*r)**n*res\n",
    "    elif b <= r - 1:\n",
    "        return 0\n",
    "    else:\n",
    "        raise NotImplementedError(\"Missing case!\")"
   ]
  },
  {
   "cell_type": "markdown",
   "metadata": {},
   "source": [
    "Let's show that the expressions yield the same answer (to within the error of the numerical method) over a large range of $b$ and $r$ values:"
   ]
  },
  {
   "cell_type": "code",
   "execution_count": 3,
   "metadata": {},
   "outputs": [
    {
     "ename": "NameError",
     "evalue": "name 'M_n' is not defined",
     "output_type": "error",
     "traceback": [
      "\u001b[0;31m---------------------------------------------------------------------------\u001b[0m",
      "\u001b[0;31mNameError\u001b[0m                                 Traceback (most recent call last)",
      "\u001b[0;32m<ipython-input-3-7ad34f221c1a>\u001b[0m in \u001b[0;36m<module>\u001b[0;34m()\u001b[0m\n\u001b[1;32m      8\u001b[0m     \u001b[0;32mfor\u001b[0m \u001b[0mi\u001b[0m\u001b[0;34m,\u001b[0m \u001b[0mb\u001b[0m \u001b[0;32min\u001b[0m \u001b[0menumerate\u001b[0m\u001b[0;34m(\u001b[0m\u001b[0mbarr\u001b[0m\u001b[0;34m)\u001b[0m\u001b[0;34m:\u001b[0m\u001b[0;34m\u001b[0m\u001b[0m\n\u001b[1;32m      9\u001b[0m         \u001b[0;32mfor\u001b[0m \u001b[0mj\u001b[0m\u001b[0;34m,\u001b[0m \u001b[0mr\u001b[0m \u001b[0;32min\u001b[0m \u001b[0menumerate\u001b[0m\u001b[0;34m(\u001b[0m\u001b[0mrarr\u001b[0m\u001b[0;34m)\u001b[0m\u001b[0;34m:\u001b[0m\u001b[0;34m\u001b[0m\u001b[0m\n\u001b[0;32m---> 10\u001b[0;31m             diff[j, i] = abs(Nu*N_n(r, b, Nu) - (2*(Nu-1)*(1-r**2-b**2)*M_n(r,b,Nu-2)+\n\u001b[0m\u001b[1;32m     11\u001b[0m                         (Nu-2)*(1-(b-r)**2)*((b+r)**2-1)*M_n(r,b,Nu-4)))\n\u001b[1;32m     12\u001b[0m     \u001b[0mfig\u001b[0m \u001b[0;34m=\u001b[0m \u001b[0mpl\u001b[0m\u001b[0;34m.\u001b[0m\u001b[0mfigure\u001b[0m\u001b[0;34m(\u001b[0m\u001b[0mfigsize\u001b[0m\u001b[0;34m=\u001b[0m\u001b[0;34m(\u001b[0m\u001b[0;36m10\u001b[0m\u001b[0;34m,\u001b[0m \u001b[0;36m8\u001b[0m\u001b[0;34m)\u001b[0m\u001b[0;34m)\u001b[0m\u001b[0;34m\u001b[0m\u001b[0m\n",
      "\u001b[0;31mNameError\u001b[0m: name 'M_n' is not defined"
     ]
    }
   ],
   "source": [
    "n = 50\n",
    "barr = np.linspace(1e-4, 2, n)\n",
    "rarr = np.linspace(1e-4, 2, n)\n",
    "diff = np.zeros((n, n))\n",
    "Nu_grid = np.linspace(4,7,4)\n",
    "# Nu is the order of the integral:\n",
    "for k, Nu in enumerate(Nu_grid):\n",
    "    for i, b in enumerate(barr):\n",
    "        for j, r in enumerate(rarr):\n",
    "            diff[j, i] = abs((Nu+2)*N_n(r, b, Nu) -M_n(r,b,Nu)- Nu*(1-(b+r)**2)*N_n(r,b,Nu-2))\n",
    "    fig = pl.figure(figsize=(10, 8))\n",
    "    pl.imshow(diff, origin=\"lower\", extent=(0, 2, 0, 2))\n",
    "    pl.xlabel(\"Impact parameter\", fontsize=16)\n",
    "    pl.ylabel(\"Radius ratio\", fontsize=16)\n",
    "    cb = pl.colorbar()\n",
    "    cb.ax.set_ylabel(\"Difference\", fontsize=16);"
   ]
  },
  {
   "cell_type": "markdown",
   "metadata": {},
   "source": [
    "The difference is numerically precise everywhere, indicating that our expression is correct."
   ]
  }
 ],
 "metadata": {
  "kernelspec": {
   "display_name": "Python 3",
   "language": "python",
   "name": "python3"
  },
  "language_info": {
   "codemirror_mode": {
    "name": "ipython",
    "version": 3
   },
   "file_extension": ".py",
   "mimetype": "text/x-python",
   "name": "python",
   "nbconvert_exporter": "python",
   "pygments_lexer": "ipython3",
   "version": "3.6.5"
  }
 },
 "nbformat": 4,
 "nbformat_minor": 2
}
