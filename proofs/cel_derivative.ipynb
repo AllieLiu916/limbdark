{
 "cells": [
  {
   "cell_type": "code",
   "execution_count": 1,
   "metadata": {},
   "outputs": [],
   "source": [
    "# Here is a notebook for proving equations for derivatives of cel"
   ]
  },
  {
   "cell_type": "code",
   "execution_count": 2,
   "metadata": {},
   "outputs": [
    {
     "data": {
      "text/plain": [
       "cel_bulirsch_nodiv (generic function with 1 method)"
      ]
     },
     "execution_count": 2,
     "metadata": {},
     "output_type": "execute_result"
    }
   ],
   "source": [
    "# First, define the cel function:\n",
    "include(\"../src/cel_bulirsch.jl\")"
   ]
  },
  {
   "cell_type": "code",
   "execution_count": 4,
   "metadata": {},
   "outputs": [
    {
     "data": {
      "text/plain": [
       "1.0995073266225186"
      ]
     },
     "execution_count": 4,
     "metadata": {},
     "output_type": "execute_result"
    }
   ],
   "source": [
    "kc = rand()\n",
    "k2 = 1-kc^2\n",
    "p = rand()\n",
    "a = rand()\n",
    "b = rand()\n",
    "cel =  cel_bulirsch(k2,kc,p,a,b)"
   ]
  },
  {
   "cell_type": "code",
   "execution_count": 5,
   "metadata": {},
   "outputs": [
    {
     "data": {
      "text/plain": [
       "1.099507326622518542991212411330498768741526090851127246293387311581841692295045"
      ]
     },
     "execution_count": 5,
     "metadata": {},
     "output_type": "execute_result"
    }
   ],
   "source": [
    "# Now, take derivatives numerically with BigFloat precision:\n",
    "kcb = big(kc)\n",
    "k2b = big(1-kcb^2)\n",
    "pb = big(p)\n",
    "ab = big(a)\n",
    "bb = big(b)\n",
    "celb =  cel_bulirsch(k2b,kcb,pb,ab,bb)"
   ]
  },
  {
   "cell_type": "code",
   "execution_count": 17,
   "metadata": {},
   "outputs": [
    {
     "name": "stdout",
     "output_type": "stream",
     "text": [
      "d cel/d k_c = -0.4888857591267924 (numerical) -0.4888857591267927 (analytic), difference: 2.898684561105678e-16\n"
     ]
    }
   ],
   "source": [
    "# Compute derivative with respect to kc:\n",
    "epsilon = big(1e-15); kcbp = kcb + epsilon; k2bp = 1-kcbp^2\n",
    "dcel_dkc_num = (cel_bulirsch(k2bp,kcbp,pb,ab,bb)-celb)/epsilon\n",
    "dcel_dkc_ana = -kcb/(pb-kcb^2)*(cel_bulirsch(k2b,kcb,kcb^2,ab,bb)-cel_bulirsch(k2b,kcb,pb,ab,bb))\n",
    "println(\"d cel/d k_c = \",convert(Float64,dcel_dkc_num),\" (numerical) \",\n",
    "    convert(Float64,dcel_dkc_ana),\" (analytic), difference: \",convert(Float64,dcel_dkc_num-dcel_dkc_ana))"
   ]
  },
  {
   "cell_type": "code",
   "execution_count": 18,
   "metadata": {},
   "outputs": [
    {
     "name": "stdout",
     "output_type": "stream",
     "text": [
      "d cel/d p = -0.7130029592500469 (numerical) -0.7130029592500478 (analytic), difference: 8.945953844546459e-16\n"
     ]
    }
   ],
   "source": [
    "# Compute derivative with respect to p:\n",
    "epsilon = big(1e-15); pbp = pb + epsilon\n",
    "dcel_dp_num = (cel_bulirsch(k2b,kcb,pbp,ab,bb)-celb)/epsilon\n",
    "lambda = kcb^2*(bb+ab*pb-2*bb*pb)+pb*(3*bb*pb-ab*pb^2-2*bb)\n",
    "dcel_dp_ana = (cel_bulirsch(k2b,kcb,pb,big(0.0),lambda)+(bb-ab*pb)*cel_bulirsch(k2b,kcb,big(1.0),1-pb,kcb^2-pb))/(2*pb*(1-pb)*(pb-kcb^2))\n",
    "\n",
    "println(\"d cel/d p = \",convert(Float64,dcel_dp_num),\" (numerical) \",\n",
    "    convert(Float64,dcel_dp_ana),\" (analytic), difference: \",convert(Float64,dcel_dp_num-dcel_dp_ana))"
   ]
  },
  {
   "cell_type": "code",
   "execution_count": 21,
   "metadata": {},
   "outputs": [
    {
     "name": "stdout",
     "output_type": "stream",
     "text": [
      "d cel/d a = 0.9726378799052039 (numerical) 0.9726378799052039 (analytic), difference: 2.064825428155792e-62\n"
     ]
    }
   ],
   "source": [
    "# Compute derivative with respect to a:\n",
    "epsilon = big(1e-15); abp = ab + epsilon\n",
    "dcel_da_num = (cel_bulirsch(k2b,kcb,pb,abp,bb)-celb)/epsilon\n",
    "dcel_da_ana = cel_bulirsch(k2b,kcb,pb,big(1.0),big(0.0))\n",
    "\n",
    "println(\"d cel/d a = \",convert(Float64,dcel_da_num),\" (numerical) \",\n",
    "    convert(Float64,dcel_da_ana),\" (analytic), difference: \",convert(Float64,dcel_da_num-dcel_da_ana))"
   ]
  },
  {
   "cell_type": "code",
   "execution_count": 23,
   "metadata": {},
   "outputs": [
    {
     "name": "stdout",
     "output_type": "stream",
     "text": [
      "d cel/d b = 1.521757662363955 (numerical) 1.521757662363955 (analytic), difference: 3.5074407178166335e-63\n"
     ]
    }
   ],
   "source": [
    "# Compute derivative with respect to b:\n",
    "epsilon = big(1e-15); bbp = bb + epsilon\n",
    "dcel_db_num = (cel_bulirsch(k2b,kcb,pb,ab,bbp)-celb)/epsilon\n",
    "dcel_db_ana = cel_bulirsch(k2b,kcb,pb,big(0.0),big(1.0))\n",
    "\n",
    "println(\"d cel/d b = \",convert(Float64,dcel_db_num),\" (numerical) \",\n",
    "    convert(Float64,dcel_db_ana),\" (analytic), difference: \",convert(Float64,dcel_db_num-dcel_db_ana))"
   ]
  },
  {
   "cell_type": "code",
   "execution_count": null,
   "metadata": {},
   "outputs": [],
   "source": []
  }
 ],
 "metadata": {
  "kernelspec": {
   "display_name": "Julia 1.0.1",
   "language": "julia",
   "name": "julia-1.0"
  },
  "language_info": {
   "file_extension": ".jl",
   "mimetype": "application/julia",
   "name": "julia",
   "version": "1.0.1"
  }
 },
 "nbformat": 4,
 "nbformat_minor": 2
}
