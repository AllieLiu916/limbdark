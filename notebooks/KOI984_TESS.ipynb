{
 "cells": [
  {
   "cell_type": "code",
   "execution_count": 1,
   "metadata": {},
   "outputs": [],
   "source": [
    "# Creating a notebook to simulate KOI-984 with TESS"
   ]
  },
  {
   "cell_type": "code",
   "execution_count": 7,
   "metadata": {},
   "outputs": [
    {
     "data": {
      "text/plain": [
       "logarithmspace (generic function with 1 method)"
      ]
     },
     "execution_count": 7,
     "metadata": {},
     "output_type": "execute_result"
    }
   ],
   "source": [
    "# Load in the functions for computing transit:\n",
    "\n",
    "include(\"../src/integrate_lightcurve.jl\")\n",
    "include(\"../test/loglinspace.jl\")"
   ]
  },
  {
   "cell_type": "code",
   "execution_count": 8,
   "metadata": {},
   "outputs": [
    {
     "name": "stdout",
     "output_type": "stream",
     "text": [
      "T from NexSci: 1.5693 T computed: 1.568868764493586\n"
     ]
    }
   ],
   "source": [
    "# Specify parameters appropriate for KOI-984.01.\n",
    "# Plucking these from NexSci Kepler candidate archive.\n",
    "\n",
    "# Radius ratio:\n",
    "r = 0.025717\n",
    "# Ratio of semi-major axis to stellar radius:\n",
    "aonr = 19.94\n",
    "# Orbital period [d]:\n",
    "period = 4.28746668\n",
    "# Impact parameter:\n",
    "b0 = 0.374\n",
    "# Transit duration [hr] (this is time between first and fourth contact):\n",
    "T = 1.5693\n",
    "\n",
    "# Check that these agree.  Compute velocity:\n",
    "v = 2*pi*aonr/period\n",
    "# Transit duration [convert to hr], approximate:\n",
    "T0 = 2*sqrt((1+r)^2-b0^2)/v*24\n",
    "\n",
    "println(\"T from NexSci: \",T,\" T computed: \",T0)"
   ]
  },
  {
   "cell_type": "code",
   "execution_count": 9,
   "metadata": {},
   "outputs": [
    {
     "data": {
      "text/plain": [
       "-2.3539499999999998:0.03362785714285714:2.3539499999999998"
      ]
     },
     "execution_count": 9,
     "metadata": {},
     "output_type": "execute_result"
    }
   ],
   "source": [
    "# Okay, now to simulate transit.  Assume a 2-minute cadence:\n",
    "tobs = 3*T  # Observation duration in hours\n",
    "nobs = convert(Int64,round(tobs*30))  # Number of data points\n",
    "time = linearspace(-1.5*T,1.5*T,nobs)  # Time array in units of hours"
   ]
  },
  {
   "cell_type": "code",
   "execution_count": 10,
   "metadata": {},
   "outputs": [
    {
     "data": {
      "text/plain": [
       "2-element Array{Float64,1}:\n",
       " 0.1914\n",
       " 0.5167"
      ]
     },
     "execution_count": 10,
     "metadata": {},
     "output_type": "execute_result"
    }
   ],
   "source": [
    "# Okay, now compute the lightcurve.  We'll integrate a\n",
    "# limb-darkened transit. Set the limb-darkening parameters:\n",
    "\n",
    "u_n = [0.1914,0.5167]  # Quadratic limb-darkening parameters"
   ]
  },
  {
   "cell_type": "code",
   "execution_count": 1,
   "metadata": {},
   "outputs": [
    {
     "ename": "UndefVarError",
     "evalue": "UndefVarError: transit_init not defined",
     "output_type": "error",
     "traceback": [
      "UndefVarError: transit_init not defined",
      "",
      "Stacktrace:",
      " [1] top-level scope at In[1]:1"
     ]
    }
   ],
   "source": [
    "# We'll use the function integrate_lightcurve to compute the light curve.\n",
    "# First, we'll set the parameters of the transit:\n",
    "\n",
    "trans = transit_init(r,b0,u_n,false)  # Initialize transit structure\n",
    "\n",
    "\n",
    "param = [0.0,v,b0]   # parameters of the transit: [t_0,v,b_0]\n",
    "dt = 2/60  # Transit exposure time is 2 minutes, convert to hours.\n",
    "\n",
    "# Set up arrays to hold various parameters:\n",
    "favg1 = Array{Float64,2}(undef,nobs,7)\n",
    "maxdepth = 6\n",
    "neval_t = Array{Int64,1}(undef,nobs)\n",
    "depthmax = Array{Int64,1}(undef,nobs)\n",
    "nt = nobs\n",
    "tol = 1e-6\n",
    "t = Array{Float64,1}(undef,nobs)\n",
    "t .= time\n",
    "\n",
    "# integrate_lightcurve!(trans::Transit_Struct{T},param::Array{T,1},t::Array{T,1},dt::T,favg1::Array{T,2},nt::Int64,tol::T,maxdepth::Int64,neval_t::Array{Int64,1},depthmax::Array{Int64,1}) where {T <: Real}\n",
    "integrate_lightcurve!(trans,param,t,dt,favg1,nt,tol,maxdepth,neval_t,depthmax)\n",
    "\n"
   ]
  },
  {
   "cell_type": "code",
   "execution_count": null,
   "metadata": {},
   "outputs": [],
   "source": [
    "using PyPlot"
   ]
  },
  {
   "cell_type": "code",
   "execution_count": null,
   "metadata": {},
   "outputs": [],
   "source": []
  }
 ],
 "metadata": {
  "kernelspec": {
   "display_name": "Julia 1.0.1",
   "language": "julia",
   "name": "julia-1.0"
  },
  "language_info": {
   "file_extension": ".jl",
   "mimetype": "application/julia",
   "name": "julia",
   "version": "1.0.1"
  }
 },
 "nbformat": 4,
 "nbformat_minor": 2
}
