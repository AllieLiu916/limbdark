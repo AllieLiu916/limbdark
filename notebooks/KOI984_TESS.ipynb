{
 "cells": [
  {
   "cell_type": "code",
   "execution_count": 1,
   "metadata": {},
   "outputs": [],
   "source": [
    "# Creating a notebook to simulate KOI-984 with TESS"
   ]
  },
  {
   "cell_type": "code",
   "execution_count": 2,
   "metadata": {},
   "outputs": [
    {
     "data": {
      "text/plain": [
       "logarithmspace (generic function with 1 method)"
      ]
     },
     "execution_count": 2,
     "metadata": {},
     "output_type": "execute_result"
    }
   ],
   "source": [
    "# Load in the functions for computing transit:\n",
    "\n",
    "include(\"../src/integrate_lightcurve.jl\")\n",
    "include(\"../test/loglinspace.jl\")"
   ]
  },
  {
   "cell_type": "code",
   "execution_count": 3,
   "metadata": {},
   "outputs": [
    {
     "name": "stdout",
     "output_type": "stream",
     "text": [
      "T from NexSci: 1.5693 T computed: 1.568868764493586\n"
     ]
    }
   ],
   "source": [
    "# Specify parameters appropriate for KOI-984.01.\n",
    "# Plucking these from NexSci Kepler candidate archive.\n",
    "\n",
    "# Radius ratio:\n",
    "r = 0.025717\n",
    "# Ratio of semi-major axis to stellar radius:\n",
    "aonr = 19.94\n",
    "# Orbital period [d]:\n",
    "period = 4.28746668\n",
    "# Impact parameter:\n",
    "b0 = 0.374\n",
    "# Transit duration [hr] (this is time between first and fourth contact):\n",
    "T = 1.5693\n",
    "\n",
    "# Check that these agree.  Compute velocity:\n",
    "v = 2*pi*aonr/period\n",
    "# Transit duration [convert to hr], approximate:\n",
    "T0 = 2*sqrt((1+r)^2-b0^2)/v*24\n",
    "\n",
    "println(\"T from NexSci: \",T,\" T computed: \",T0)"
   ]
  },
  {
   "cell_type": "code",
   "execution_count": 4,
   "metadata": {},
   "outputs": [
    {
     "data": {
      "text/plain": [
       "-2.3539499999999998:0.03362785714285714:2.3539499999999998"
      ]
     },
     "execution_count": 4,
     "metadata": {},
     "output_type": "execute_result"
    }
   ],
   "source": [
    "# Okay, now to simulate transit.  Assume a 2-minute cadence:\n",
    "tobs = 3*T  # Observation duration in hours\n",
    "nobs = convert(Int64,round(tobs*30))  # Number of data points\n",
    "time = linearspace(-1.5*T,1.5*T,nobs)  # Time array in units of hours"
   ]
  },
  {
   "cell_type": "code",
   "execution_count": 5,
   "metadata": {},
   "outputs": [
    {
     "data": {
      "text/plain": [
       "2-element Array{Float64,1}:\n",
       " 0.1914\n",
       " 0.5167"
      ]
     },
     "execution_count": 5,
     "metadata": {},
     "output_type": "execute_result"
    }
   ],
   "source": [
    "# Okay, now compute the lightcurve.  We'll integrate a\n",
    "# limb-darkened transit. Set the limb-darkening parameters:\n",
    "\n",
    "u_n = [0.1914,0.5167]  # Quadratic limb-darkening parameters"
   ]
  },
  {
   "cell_type": "code",
   "execution_count": 28,
   "metadata": {},
   "outputs": [],
   "source": [
    "# We'll use the function integrate_lightcurve to compute the light curve.\n",
    "# First, we'll set the parameters of the transit:\n",
    "\n",
    "trans = transit_init(r,b0,u_n,false)  # Initialize transit structure\n",
    "\n",
    "\n",
    "param = [0.0,v/24,b0]   # parameters of the transit: [t_0,v,b_0]\n",
    "dt = 2/60  # Transit exposure time is 2 minutes, convert to hours.\n",
    "\n",
    "# Set up arrays to hold various parameters:\n",
    "favg1 = Array{Float64,2}(undef,7,nobs)\n",
    "maxdepth = 6\n",
    "neval_t = Array{Int64,1}(undef,nobs)\n",
    "depthmax = Array{Int64,1}(undef,nobs)\n",
    "nt = nobs\n",
    "tol = 1e-6\n",
    "t = Array{Float64,1}(undef,nobs)\n",
    "t .= time\n",
    "\n",
    "# integrate_lightcurve!(trans::Transit_Struct{T},param::Array{T,1},t::Array{T,1},dt::T,favg1::Array{T,2},nt::Int64,tol::T,maxdepth::Int64,neval_t::Array{Int64,1},depthmax::Array{Int64,1}) where {T <: Real}\n",
    "integrate_lightcurve!(trans,param,t,dt,favg1,nt,tol,maxdepth,neval_t,depthmax)\n",
    "\n"
   ]
  },
  {
   "cell_type": "code",
   "execution_count": 47,
   "metadata": {},
   "outputs": [
    {
     "data": {
      "text/plain": [
       "PyObject <matplotlib.legend.Legend object at 0x13f98a7f0>"
      ]
     },
     "execution_count": 47,
     "metadata": {},
     "output_type": "execute_result"
    }
   ],
   "source": [
    "# Plot noise-free light curve:\n",
    "using PyPlot\n",
    "using Statistics\n",
    "fig,axtmp = subplots(2,1)\n",
    "ax = axtmp[1]\n",
    "ax[:plot](t,favg1[1,:], label=\"1 TESS, noise-free\")\n",
    "\n",
    "# Noise expected for TESS:\n",
    "# ~$ ticgen -J 10.457 -H 10.096 -K 10.016\n",
    "# TESS mag = 11.11, calculated using J/Ks.\n",
    "# 1-sigma scatter in 60 min = 357 ppm.\n",
    "\n",
    "# Add noise, scalling one hour noise up to 2 minutes: \n",
    "sigma = 3.57e-4*sqrt(60/2)\n",
    "# Generate random normal noise:\n",
    "noise = randn(nobs)*sigma\n",
    "\n",
    "# Create a simulates TESS lightcurve:\n",
    "f_TESS = favg1[1,:]+noise\n",
    "ax[:plot](t,f_TESS,\".\",label=\"1 TESS, 2-min\")\n",
    "\n",
    "# Bin the photometry results:\n",
    "tbin = zeros(14); fbin = zeros(14)\n",
    "for i=1:14\n",
    "    tbin[i] = mean(t[(i-1)*10+1:i*10])\n",
    "    fbin[i] = mean(f_TESS[(i-1)*10+1:i*10])\n",
    "end\n",
    "# Plot binned points with large dots:\n",
    "ax[:plot](tbin,fbin,\"o\",label=\"1 TESS, 20-min\")\n",
    "ax[:legend]()\n",
    "\n",
    "# Now scale the noise for 7 transits (which is \n",
    "# a guesstimate for how many TESS transits will be detected):\n",
    "\n",
    "sigma = 3.57e-4*sqrt(60/27)\n",
    "noise = randn(nobs)*sigma\n",
    "\n",
    "f_TESS = favg1[1,:]+noise\n",
    "ax = axtmp[2]\n",
    "ax[:plot](t,favg1[1,:], label=\"7 TESS, noise-free\")\n",
    "ax[:plot](t,f_TESS,\".\",label=\"7 TESS, 2-min\")\n",
    "\n",
    "# Bin results:\n",
    "tbin = zeros(14); fbin = zeros(14)\n",
    "for i=1:14\n",
    "    tbin[i] = mean(t[(i-1)*10+1:i*10])\n",
    "    fbin[i] = mean(f_TESS[(i-1)*10+1:i*10])\n",
    "end\n",
    "ax[:plot](tbin,fbin,\"o\",label=\"7 TESS, 20-min\")\n",
    "ax[:legend]()"
   ]
  },
  {
   "cell_type": "code",
   "execution_count": 41,
   "metadata": {},
   "outputs": [
    {
     "ename": "MethodError",
     "evalue": "MethodError: no method matching getindex(::typeof(axes), ::Int64)",
     "output_type": "error",
     "traceback": [
      "MethodError: no method matching getindex(::typeof(axes), ::Int64)",
      "",
      "Stacktrace:",
      " [1] top-level scope at In[41]:8"
     ]
    }
   ],
   "source": []
  }
 ],
 "metadata": {
  "kernelspec": {
   "display_name": "Julia 1.0.1",
   "language": "julia",
   "name": "julia-1.0"
  },
  "language_info": {
   "file_extension": ".jl",
   "mimetype": "application/julia",
   "name": "julia",
   "version": "1.0.1"
  }
 },
 "nbformat": 4,
 "nbformat_minor": 2
}
